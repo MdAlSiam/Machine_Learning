{
  "nbformat": 4,
  "nbformat_minor": 0,
  "metadata": {
    "colab": {
      "name": "HML Ch 1.ipynb",
      "provenance": [],
      "collapsed_sections": [],
      "authorship_tag": "ABX9TyM/k4mw+pchPrkNSMpilKy6",
      "include_colab_link": true
    },
    "kernelspec": {
      "name": "python3",
      "display_name": "Python 3"
    }
  },
  "cells": [
    {
      "cell_type": "markdown",
      "metadata": {
        "id": "view-in-github",
        "colab_type": "text"
      },
      "source": [
        "<a href=\"https://colab.research.google.com/github/MdAlSiam/Machine_Learning/blob/master/HML_Ch_1.ipynb\" target=\"_parent\"><img src=\"https://colab.research.google.com/assets/colab-badge.svg\" alt=\"Open In Colab\"/></a>"
      ]
    },
    {
      "cell_type": "code",
      "metadata": {
        "id": "LFhR9z_s1ohr",
        "colab_type": "code",
        "colab": {}
      },
      "source": [
        "import numpy as np\n",
        "import pandas as pd\n",
        "import matplotlib.pyplot as plt"
      ],
      "execution_count": null,
      "outputs": []
    },
    {
      "cell_type": "code",
      "metadata": {
        "id": "wc8xxszT2IfW",
        "colab_type": "code",
        "colab": {
          "base_uri": "https://localhost:8080/",
          "height": 155
        },
        "outputId": "f7ada9fa-d636-43ce-e7fe-217cf77672cd"
      },
      "source": [
        "from google.colab import drive\n",
        "drive.mount(\"/content/drive\")"
      ],
      "execution_count": null,
      "outputs": [
        {
          "output_type": "stream",
          "text": [
            "Go to this URL in a browser: https://accounts.google.com/o/oauth2/auth?client_id=947318989803-6bn6qk8qdgf4n4g3pfee6491hc0brc4i.apps.googleusercontent.com&redirect_uri=urn%3aietf%3awg%3aoauth%3a2.0%3aoob&scope=email%20https%3a%2f%2fwww.googleapis.com%2fauth%2fdocs.test%20https%3a%2f%2fwww.googleapis.com%2fauth%2fdrive%20https%3a%2f%2fwww.googleapis.com%2fauth%2fdrive.photos.readonly%20https%3a%2f%2fwww.googleapis.com%2fauth%2fpeopleapi.readonly&response_type=code\n",
            "\n",
            "Enter your authorization code:\n",
            "··········\n",
            "Mounted at /content/drive\n"
          ],
          "name": "stdout"
        }
      ]
    },
    {
      "cell_type": "code",
      "metadata": {
        "id": "Nx6jeWPI2kD2",
        "colab_type": "code",
        "colab": {
          "base_uri": "https://localhost:8080/",
          "height": 296
        },
        "outputId": "6ff21bf9-bcd1-4174-a363-d3185703895a"
      },
      "source": [
        "!wget https://raw.githubusercontent.com/ageron/handson-ml2/master/datasets/lifesat/oecd_bli_2015.csv"
      ],
      "execution_count": null,
      "outputs": [
        {
          "output_type": "stream",
          "text": [
            "--2020-08-13 17:28:38--  https://raw.githubusercontent.com/ageron/handson-ml2/master/datasets/lifesat/oecd_bli_2015.csv\n",
            "Resolving raw.githubusercontent.com (raw.githubusercontent.com)... 151.101.0.133, 151.101.64.133, 151.101.128.133, ...\n",
            "Connecting to raw.githubusercontent.com (raw.githubusercontent.com)|151.101.0.133|:443... connected.\n",
            "HTTP request sent, awaiting response... 200 OK\n",
            "Length: 405467 (396K) [text/plain]\n",
            "Saving to: ‘oecd_bli_2015.csv’\n",
            "\n",
            "oecd_bli_2015.csv   100%[===================>] 395.96K  --.-KB/s    in 0.02s   \n",
            "\n",
            "2020-08-13 17:28:39 (15.8 MB/s) - ‘oecd_bli_2015.csv’ saved [405467/405467]\n",
            "\n"
          ],
          "name": "stdout"
        }
      ]
    },
    {
      "cell_type": "code",
      "metadata": {
        "id": "PTD56Sc13evA",
        "colab_type": "code",
        "colab": {
          "base_uri": "https://localhost:8080/",
          "height": 296
        },
        "outputId": "e7972dbb-dab0-483a-aeb2-d74bc689ffb5"
      },
      "source": [
        "!wget https://raw.githubusercontent.com/ageron/handson-ml2/master/datasets/lifesat/gdp_per_capita.csv"
      ],
      "execution_count": null,
      "outputs": [
        {
          "output_type": "stream",
          "text": [
            "--2020-08-13 17:28:59--  https://raw.githubusercontent.com/ageron/handson-ml2/master/datasets/lifesat/gdp_per_capita.csv\n",
            "Resolving raw.githubusercontent.com (raw.githubusercontent.com)... 151.101.0.133, 151.101.64.133, 151.101.128.133, ...\n",
            "Connecting to raw.githubusercontent.com (raw.githubusercontent.com)|151.101.0.133|:443... connected.\n",
            "HTTP request sent, awaiting response... 200 OK\n",
            "Length: 36323 (35K) [text/plain]\n",
            "Saving to: ‘gdp_per_capita.csv’\n",
            "\n",
            "\rgdp_per_capita.csv    0%[                    ]       0  --.-KB/s               \rgdp_per_capita.csv  100%[===================>]  35.47K  --.-KB/s    in 0.004s  \n",
            "\n",
            "2020-08-13 17:28:59 (9.82 MB/s) - ‘gdp_per_capita.csv’ saved [36323/36323]\n",
            "\n"
          ],
          "name": "stdout"
        }
      ]
    },
    {
      "cell_type": "code",
      "metadata": {
        "id": "pkEGV7DK3n48",
        "colab_type": "code",
        "colab": {
          "base_uri": "https://localhost:8080/",
          "height": 64
        },
        "outputId": "a07fca64-1083-4924-d5fe-2007d9787b95"
      },
      "source": [
        "!ls -lh *csv"
      ],
      "execution_count": null,
      "outputs": [
        {
          "output_type": "stream",
          "text": [
            "-rw-r--r-- 1 root root  36K Aug 13 17:28 gdp_per_capita.csv\n",
            "-rw-r--r-- 1 root root 396K Aug 13 17:28 oecd_bli_2015.csv\n"
          ],
          "name": "stdout"
        }
      ]
    },
    {
      "cell_type": "code",
      "metadata": {
        "id": "Na2XMHnv5F-D",
        "colab_type": "code",
        "colab": {}
      },
      "source": [
        "gdp_per_capita = pd.read_csv('gdp_per_capita.csv',\\\n",
        "                             thousands=',', delimiter='\\t', encoding='latin1', na_values=\"n/a\")"
      ],
      "execution_count": null,
      "outputs": []
    },
    {
      "cell_type": "code",
      "metadata": {
        "id": "8qKZR9mX5Rfz",
        "colab_type": "code",
        "colab": {
          "base_uri": "https://localhost:8080/",
          "height": 813
        },
        "outputId": "d75e2d2c-5c18-4792-ef05-eb11e9272a93"
      },
      "source": [
        "gdp_per_capita"
      ],
      "execution_count": null,
      "outputs": [
        {
          "output_type": "execute_result",
          "data": {
            "text/html": [
              "<div>\n",
              "<style scoped>\n",
              "    .dataframe tbody tr th:only-of-type {\n",
              "        vertical-align: middle;\n",
              "    }\n",
              "\n",
              "    .dataframe tbody tr th {\n",
              "        vertical-align: top;\n",
              "    }\n",
              "\n",
              "    .dataframe thead th {\n",
              "        text-align: right;\n",
              "    }\n",
              "</style>\n",
              "<table border=\"1\" class=\"dataframe\">\n",
              "  <thead>\n",
              "    <tr style=\"text-align: right;\">\n",
              "      <th></th>\n",
              "      <th>Country</th>\n",
              "      <th>Subject Descriptor</th>\n",
              "      <th>Units</th>\n",
              "      <th>Scale</th>\n",
              "      <th>Country/Series-specific Notes</th>\n",
              "      <th>2015</th>\n",
              "      <th>Estimates Start After</th>\n",
              "    </tr>\n",
              "  </thead>\n",
              "  <tbody>\n",
              "    <tr>\n",
              "      <th>0</th>\n",
              "      <td>Afghanistan</td>\n",
              "      <td>Gross domestic product per capita, current prices</td>\n",
              "      <td>U.S. dollars</td>\n",
              "      <td>Units</td>\n",
              "      <td>See notes for:  Gross domestic product, curren...</td>\n",
              "      <td>599.994</td>\n",
              "      <td>2013.0</td>\n",
              "    </tr>\n",
              "    <tr>\n",
              "      <th>1</th>\n",
              "      <td>Albania</td>\n",
              "      <td>Gross domestic product per capita, current prices</td>\n",
              "      <td>U.S. dollars</td>\n",
              "      <td>Units</td>\n",
              "      <td>See notes for:  Gross domestic product, curren...</td>\n",
              "      <td>3995.383</td>\n",
              "      <td>2010.0</td>\n",
              "    </tr>\n",
              "    <tr>\n",
              "      <th>2</th>\n",
              "      <td>Algeria</td>\n",
              "      <td>Gross domestic product per capita, current prices</td>\n",
              "      <td>U.S. dollars</td>\n",
              "      <td>Units</td>\n",
              "      <td>See notes for:  Gross domestic product, curren...</td>\n",
              "      <td>4318.135</td>\n",
              "      <td>2014.0</td>\n",
              "    </tr>\n",
              "    <tr>\n",
              "      <th>3</th>\n",
              "      <td>Angola</td>\n",
              "      <td>Gross domestic product per capita, current prices</td>\n",
              "      <td>U.S. dollars</td>\n",
              "      <td>Units</td>\n",
              "      <td>See notes for:  Gross domestic product, curren...</td>\n",
              "      <td>4100.315</td>\n",
              "      <td>2014.0</td>\n",
              "    </tr>\n",
              "    <tr>\n",
              "      <th>4</th>\n",
              "      <td>Antigua and Barbuda</td>\n",
              "      <td>Gross domestic product per capita, current prices</td>\n",
              "      <td>U.S. dollars</td>\n",
              "      <td>Units</td>\n",
              "      <td>See notes for:  Gross domestic product, curren...</td>\n",
              "      <td>14414.302</td>\n",
              "      <td>2011.0</td>\n",
              "    </tr>\n",
              "    <tr>\n",
              "      <th>...</th>\n",
              "      <td>...</td>\n",
              "      <td>...</td>\n",
              "      <td>...</td>\n",
              "      <td>...</td>\n",
              "      <td>...</td>\n",
              "      <td>...</td>\n",
              "      <td>...</td>\n",
              "    </tr>\n",
              "    <tr>\n",
              "      <th>185</th>\n",
              "      <td>Vietnam</td>\n",
              "      <td>Gross domestic product per capita, current prices</td>\n",
              "      <td>U.S. dollars</td>\n",
              "      <td>Units</td>\n",
              "      <td>See notes for:  Gross domestic product, curren...</td>\n",
              "      <td>2088.344</td>\n",
              "      <td>2012.0</td>\n",
              "    </tr>\n",
              "    <tr>\n",
              "      <th>186</th>\n",
              "      <td>Yemen</td>\n",
              "      <td>Gross domestic product per capita, current prices</td>\n",
              "      <td>U.S. dollars</td>\n",
              "      <td>Units</td>\n",
              "      <td>See notes for:  Gross domestic product, curren...</td>\n",
              "      <td>1302.940</td>\n",
              "      <td>2008.0</td>\n",
              "    </tr>\n",
              "    <tr>\n",
              "      <th>187</th>\n",
              "      <td>Zambia</td>\n",
              "      <td>Gross domestic product per capita, current prices</td>\n",
              "      <td>U.S. dollars</td>\n",
              "      <td>Units</td>\n",
              "      <td>See notes for:  Gross domestic product, curren...</td>\n",
              "      <td>1350.151</td>\n",
              "      <td>2010.0</td>\n",
              "    </tr>\n",
              "    <tr>\n",
              "      <th>188</th>\n",
              "      <td>Zimbabwe</td>\n",
              "      <td>Gross domestic product per capita, current prices</td>\n",
              "      <td>U.S. dollars</td>\n",
              "      <td>Units</td>\n",
              "      <td>See notes for:  Gross domestic product, curren...</td>\n",
              "      <td>1064.350</td>\n",
              "      <td>2012.0</td>\n",
              "    </tr>\n",
              "    <tr>\n",
              "      <th>189</th>\n",
              "      <td>International Monetary Fund, World Economic Ou...</td>\n",
              "      <td>NaN</td>\n",
              "      <td>NaN</td>\n",
              "      <td>NaN</td>\n",
              "      <td>NaN</td>\n",
              "      <td>NaN</td>\n",
              "      <td>NaN</td>\n",
              "    </tr>\n",
              "  </tbody>\n",
              "</table>\n",
              "<p>190 rows × 7 columns</p>\n",
              "</div>"
            ],
            "text/plain": [
              "                                               Country  ... Estimates Start After\n",
              "0                                          Afghanistan  ...                2013.0\n",
              "1                                              Albania  ...                2010.0\n",
              "2                                              Algeria  ...                2014.0\n",
              "3                                               Angola  ...                2014.0\n",
              "4                                  Antigua and Barbuda  ...                2011.0\n",
              "..                                                 ...  ...                   ...\n",
              "185                                            Vietnam  ...                2012.0\n",
              "186                                              Yemen  ...                2008.0\n",
              "187                                             Zambia  ...                2010.0\n",
              "188                                           Zimbabwe  ...                2012.0\n",
              "189  International Monetary Fund, World Economic Ou...  ...                   NaN\n",
              "\n",
              "[190 rows x 7 columns]"
            ]
          },
          "metadata": {
            "tags": []
          },
          "execution_count": 8
        }
      ]
    },
    {
      "cell_type": "code",
      "metadata": {
        "id": "NDYFWskr6UML",
        "colab_type": "code",
        "colab": {}
      },
      "source": [
        "oecd_bli = pd.read_csv(\"oecd_bli_2015.csv\")"
      ],
      "execution_count": null,
      "outputs": []
    },
    {
      "cell_type": "code",
      "metadata": {
        "id": "DXsUmRqm6sZG",
        "colab_type": "code",
        "colab": {
          "base_uri": "https://localhost:8080/",
          "height": 1000
        },
        "outputId": "5c7b147e-a74a-4157-b1ba-e0ad0e6d22cd"
      },
      "source": [
        "oecd_bli"
      ],
      "execution_count": null,
      "outputs": [
        {
          "output_type": "execute_result",
          "data": {
            "text/html": [
              "<div>\n",
              "<style scoped>\n",
              "    .dataframe tbody tr th:only-of-type {\n",
              "        vertical-align: middle;\n",
              "    }\n",
              "\n",
              "    .dataframe tbody tr th {\n",
              "        vertical-align: top;\n",
              "    }\n",
              "\n",
              "    .dataframe thead th {\n",
              "        text-align: right;\n",
              "    }\n",
              "</style>\n",
              "<table border=\"1\" class=\"dataframe\">\n",
              "  <thead>\n",
              "    <tr style=\"text-align: right;\">\n",
              "      <th></th>\n",
              "      <th>LOCATION</th>\n",
              "      <th>Country</th>\n",
              "      <th>INDICATOR</th>\n",
              "      <th>Indicator</th>\n",
              "      <th>MEASURE</th>\n",
              "      <th>Measure</th>\n",
              "      <th>INEQUALITY</th>\n",
              "      <th>Inequality</th>\n",
              "      <th>Unit Code</th>\n",
              "      <th>Unit</th>\n",
              "      <th>PowerCode Code</th>\n",
              "      <th>PowerCode</th>\n",
              "      <th>Reference Period Code</th>\n",
              "      <th>Reference Period</th>\n",
              "      <th>Value</th>\n",
              "      <th>Flag Codes</th>\n",
              "      <th>Flags</th>\n",
              "    </tr>\n",
              "  </thead>\n",
              "  <tbody>\n",
              "    <tr>\n",
              "      <th>0</th>\n",
              "      <td>AUS</td>\n",
              "      <td>Australia</td>\n",
              "      <td>HO_BASE</td>\n",
              "      <td>Dwellings without basic facilities</td>\n",
              "      <td>L</td>\n",
              "      <td>Value</td>\n",
              "      <td>TOT</td>\n",
              "      <td>Total</td>\n",
              "      <td>PC</td>\n",
              "      <td>Percentage</td>\n",
              "      <td>0</td>\n",
              "      <td>units</td>\n",
              "      <td>NaN</td>\n",
              "      <td>NaN</td>\n",
              "      <td>1.10</td>\n",
              "      <td>E</td>\n",
              "      <td>Estimated value</td>\n",
              "    </tr>\n",
              "    <tr>\n",
              "      <th>1</th>\n",
              "      <td>AUT</td>\n",
              "      <td>Austria</td>\n",
              "      <td>HO_BASE</td>\n",
              "      <td>Dwellings without basic facilities</td>\n",
              "      <td>L</td>\n",
              "      <td>Value</td>\n",
              "      <td>TOT</td>\n",
              "      <td>Total</td>\n",
              "      <td>PC</td>\n",
              "      <td>Percentage</td>\n",
              "      <td>0</td>\n",
              "      <td>units</td>\n",
              "      <td>NaN</td>\n",
              "      <td>NaN</td>\n",
              "      <td>1.00</td>\n",
              "      <td>NaN</td>\n",
              "      <td>NaN</td>\n",
              "    </tr>\n",
              "    <tr>\n",
              "      <th>2</th>\n",
              "      <td>BEL</td>\n",
              "      <td>Belgium</td>\n",
              "      <td>HO_BASE</td>\n",
              "      <td>Dwellings without basic facilities</td>\n",
              "      <td>L</td>\n",
              "      <td>Value</td>\n",
              "      <td>TOT</td>\n",
              "      <td>Total</td>\n",
              "      <td>PC</td>\n",
              "      <td>Percentage</td>\n",
              "      <td>0</td>\n",
              "      <td>units</td>\n",
              "      <td>NaN</td>\n",
              "      <td>NaN</td>\n",
              "      <td>2.00</td>\n",
              "      <td>NaN</td>\n",
              "      <td>NaN</td>\n",
              "    </tr>\n",
              "    <tr>\n",
              "      <th>3</th>\n",
              "      <td>CAN</td>\n",
              "      <td>Canada</td>\n",
              "      <td>HO_BASE</td>\n",
              "      <td>Dwellings without basic facilities</td>\n",
              "      <td>L</td>\n",
              "      <td>Value</td>\n",
              "      <td>TOT</td>\n",
              "      <td>Total</td>\n",
              "      <td>PC</td>\n",
              "      <td>Percentage</td>\n",
              "      <td>0</td>\n",
              "      <td>units</td>\n",
              "      <td>NaN</td>\n",
              "      <td>NaN</td>\n",
              "      <td>0.20</td>\n",
              "      <td>NaN</td>\n",
              "      <td>NaN</td>\n",
              "    </tr>\n",
              "    <tr>\n",
              "      <th>4</th>\n",
              "      <td>CZE</td>\n",
              "      <td>Czech Republic</td>\n",
              "      <td>HO_BASE</td>\n",
              "      <td>Dwellings without basic facilities</td>\n",
              "      <td>L</td>\n",
              "      <td>Value</td>\n",
              "      <td>TOT</td>\n",
              "      <td>Total</td>\n",
              "      <td>PC</td>\n",
              "      <td>Percentage</td>\n",
              "      <td>0</td>\n",
              "      <td>units</td>\n",
              "      <td>NaN</td>\n",
              "      <td>NaN</td>\n",
              "      <td>0.90</td>\n",
              "      <td>NaN</td>\n",
              "      <td>NaN</td>\n",
              "    </tr>\n",
              "    <tr>\n",
              "      <th>...</th>\n",
              "      <td>...</td>\n",
              "      <td>...</td>\n",
              "      <td>...</td>\n",
              "      <td>...</td>\n",
              "      <td>...</td>\n",
              "      <td>...</td>\n",
              "      <td>...</td>\n",
              "      <td>...</td>\n",
              "      <td>...</td>\n",
              "      <td>...</td>\n",
              "      <td>...</td>\n",
              "      <td>...</td>\n",
              "      <td>...</td>\n",
              "      <td>...</td>\n",
              "      <td>...</td>\n",
              "      <td>...</td>\n",
              "      <td>...</td>\n",
              "    </tr>\n",
              "    <tr>\n",
              "      <th>3287</th>\n",
              "      <td>EST</td>\n",
              "      <td>Estonia</td>\n",
              "      <td>WL_TNOW</td>\n",
              "      <td>Time devoted to leisure and personal care</td>\n",
              "      <td>L</td>\n",
              "      <td>Value</td>\n",
              "      <td>WMN</td>\n",
              "      <td>Women</td>\n",
              "      <td>HOUR</td>\n",
              "      <td>Hours</td>\n",
              "      <td>0</td>\n",
              "      <td>units</td>\n",
              "      <td>NaN</td>\n",
              "      <td>NaN</td>\n",
              "      <td>14.43</td>\n",
              "      <td>NaN</td>\n",
              "      <td>NaN</td>\n",
              "    </tr>\n",
              "    <tr>\n",
              "      <th>3288</th>\n",
              "      <td>ISR</td>\n",
              "      <td>Israel</td>\n",
              "      <td>WL_TNOW</td>\n",
              "      <td>Time devoted to leisure and personal care</td>\n",
              "      <td>L</td>\n",
              "      <td>Value</td>\n",
              "      <td>WMN</td>\n",
              "      <td>Women</td>\n",
              "      <td>HOUR</td>\n",
              "      <td>Hours</td>\n",
              "      <td>0</td>\n",
              "      <td>units</td>\n",
              "      <td>NaN</td>\n",
              "      <td>NaN</td>\n",
              "      <td>14.24</td>\n",
              "      <td>E</td>\n",
              "      <td>Estimated value</td>\n",
              "    </tr>\n",
              "    <tr>\n",
              "      <th>3289</th>\n",
              "      <td>RUS</td>\n",
              "      <td>Russia</td>\n",
              "      <td>WL_TNOW</td>\n",
              "      <td>Time devoted to leisure and personal care</td>\n",
              "      <td>L</td>\n",
              "      <td>Value</td>\n",
              "      <td>WMN</td>\n",
              "      <td>Women</td>\n",
              "      <td>HOUR</td>\n",
              "      <td>Hours</td>\n",
              "      <td>0</td>\n",
              "      <td>units</td>\n",
              "      <td>NaN</td>\n",
              "      <td>NaN</td>\n",
              "      <td>14.75</td>\n",
              "      <td>E</td>\n",
              "      <td>Estimated value</td>\n",
              "    </tr>\n",
              "    <tr>\n",
              "      <th>3290</th>\n",
              "      <td>SVN</td>\n",
              "      <td>Slovenia</td>\n",
              "      <td>WL_TNOW</td>\n",
              "      <td>Time devoted to leisure and personal care</td>\n",
              "      <td>L</td>\n",
              "      <td>Value</td>\n",
              "      <td>WMN</td>\n",
              "      <td>Women</td>\n",
              "      <td>HOUR</td>\n",
              "      <td>Hours</td>\n",
              "      <td>0</td>\n",
              "      <td>units</td>\n",
              "      <td>NaN</td>\n",
              "      <td>NaN</td>\n",
              "      <td>14.12</td>\n",
              "      <td>NaN</td>\n",
              "      <td>NaN</td>\n",
              "    </tr>\n",
              "    <tr>\n",
              "      <th>3291</th>\n",
              "      <td>OECD</td>\n",
              "      <td>OECD - Total</td>\n",
              "      <td>WL_TNOW</td>\n",
              "      <td>Time devoted to leisure and personal care</td>\n",
              "      <td>L</td>\n",
              "      <td>Value</td>\n",
              "      <td>WMN</td>\n",
              "      <td>Women</td>\n",
              "      <td>HOUR</td>\n",
              "      <td>Hours</td>\n",
              "      <td>0</td>\n",
              "      <td>units</td>\n",
              "      <td>NaN</td>\n",
              "      <td>NaN</td>\n",
              "      <td>14.74</td>\n",
              "      <td>NaN</td>\n",
              "      <td>NaN</td>\n",
              "    </tr>\n",
              "  </tbody>\n",
              "</table>\n",
              "<p>3292 rows × 17 columns</p>\n",
              "</div>"
            ],
            "text/plain": [
              "     LOCATION         Country INDICATOR  ...  Value Flag Codes            Flags\n",
              "0         AUS       Australia   HO_BASE  ...   1.10          E  Estimated value\n",
              "1         AUT         Austria   HO_BASE  ...   1.00        NaN              NaN\n",
              "2         BEL         Belgium   HO_BASE  ...   2.00        NaN              NaN\n",
              "3         CAN          Canada   HO_BASE  ...   0.20        NaN              NaN\n",
              "4         CZE  Czech Republic   HO_BASE  ...   0.90        NaN              NaN\n",
              "...       ...             ...       ...  ...    ...        ...              ...\n",
              "3287      EST         Estonia   WL_TNOW  ...  14.43        NaN              NaN\n",
              "3288      ISR          Israel   WL_TNOW  ...  14.24          E  Estimated value\n",
              "3289      RUS          Russia   WL_TNOW  ...  14.75          E  Estimated value\n",
              "3290      SVN        Slovenia   WL_TNOW  ...  14.12        NaN              NaN\n",
              "3291     OECD    OECD - Total   WL_TNOW  ...  14.74        NaN              NaN\n",
              "\n",
              "[3292 rows x 17 columns]"
            ]
          },
          "metadata": {
            "tags": []
          },
          "execution_count": 10
        }
      ]
    },
    {
      "cell_type": "code",
      "metadata": {
        "id": "pnys3oi36zbD",
        "colab_type": "code",
        "colab": {
          "base_uri": "https://localhost:8080/",
          "height": 347
        },
        "outputId": "323d635f-67fa-458a-cf77-7b1c26d33d6d"
      },
      "source": [
        "gdp_per_capita.info()"
      ],
      "execution_count": null,
      "outputs": [
        {
          "output_type": "stream",
          "text": [
            "<class 'pandas.core.frame.DataFrame'>\n",
            "RangeIndex: 190 entries, 0 to 189\n",
            "Data columns (total 7 columns):\n",
            " #   Column                         Non-Null Count  Dtype  \n",
            "---  ------                         --------------  -----  \n",
            " 0   Country                        190 non-null    object \n",
            " 1   Subject Descriptor             189 non-null    object \n",
            " 2   Units                          189 non-null    object \n",
            " 3   Scale                          189 non-null    object \n",
            " 4   Country/Series-specific Notes  188 non-null    object \n",
            " 5   2015                           187 non-null    float64\n",
            " 6   Estimates Start After          188 non-null    float64\n",
            "dtypes: float64(2), object(5)\n",
            "memory usage: 10.5+ KB\n"
          ],
          "name": "stdout"
        }
      ]
    },
    {
      "cell_type": "code",
      "metadata": {
        "id": "I8ZrBrNv7CRr",
        "colab_type": "code",
        "colab": {
          "base_uri": "https://localhost:8080/",
          "height": 583
        },
        "outputId": "9170c9ca-696f-4737-9faa-54228d1efbcc"
      },
      "source": [
        "oecd_bli.info()"
      ],
      "execution_count": null,
      "outputs": [
        {
          "output_type": "stream",
          "text": [
            "<class 'pandas.core.frame.DataFrame'>\n",
            "RangeIndex: 3292 entries, 0 to 3291\n",
            "Data columns (total 17 columns):\n",
            " #   Column                 Non-Null Count  Dtype  \n",
            "---  ------                 --------------  -----  \n",
            " 0   LOCATION               3292 non-null   object \n",
            " 1   Country                3292 non-null   object \n",
            " 2   INDICATOR              3292 non-null   object \n",
            " 3   Indicator              3292 non-null   object \n",
            " 4   MEASURE                3292 non-null   object \n",
            " 5   Measure                3292 non-null   object \n",
            " 6   INEQUALITY             3292 non-null   object \n",
            " 7   Inequality             3292 non-null   object \n",
            " 8   Unit Code              3292 non-null   object \n",
            " 9   Unit                   3292 non-null   object \n",
            " 10  PowerCode Code         3292 non-null   int64  \n",
            " 11  PowerCode              3292 non-null   object \n",
            " 12  Reference Period Code  0 non-null      float64\n",
            " 13  Reference Period       0 non-null      float64\n",
            " 14  Value                  3292 non-null   float64\n",
            " 15  Flag Codes             1120 non-null   object \n",
            " 16  Flags                  1120 non-null   object \n",
            "dtypes: float64(3), int64(1), object(13)\n",
            "memory usage: 437.3+ KB\n"
          ],
          "name": "stdout"
        }
      ]
    },
    {
      "cell_type": "code",
      "metadata": {
        "id": "WXGn50ef7y98",
        "colab_type": "code",
        "colab": {}
      },
      "source": [
        "def prepare_country_stats(oecd_bli, gdp_per_capita):\n",
        "    oecd_bli = oecd_bli[oecd_bli[\"INEQUALITY\"] == \"TOT\"]\n",
        "    oecd_bli = oecd_bli.pivot(\n",
        "        index=\"Country\", columns=\"Indicator\", values=\"Value\")\n",
        "    gdp_per_capita.rename(columns={\"2015\": \"GDP per capita\"}, inplace=True)\n",
        "    gdp_per_capita.set_index(\"Country\", inplace=True)\n",
        "    full_country_stats = pd.merge(left=oecd_bli, right=gdp_per_capita,\n",
        "                                  left_index=True, right_index=True)\n",
        "    full_country_stats.sort_values(by=\"GDP per capita\", inplace=True)\n",
        "    remove_indices = [0, 1, 6, 8, 33, 34, 35]\n",
        "    keep_indices = list(set(range(36)) - set(remove_indices))\n",
        " \n",
        "    return full_country_stats[[\"GDP per capita\", 'Life satisfaction']].iloc[keep_indices]"
      ],
      "execution_count": 13,
      "outputs": []
    },
    {
      "cell_type": "code",
      "metadata": {
        "id": "SAhqYrqo_mIk",
        "colab_type": "code",
        "colab": {
          "base_uri": "https://localhost:8080/",
          "height": 1000
        },
        "outputId": "91e477cf-b0a2-4e3e-d740-0f9ccfedcb64"
      },
      "source": [
        "country_stats = prepare_country_stats(oecd_bli, gdp_per_capita)\n",
        "country_stats"
      ],
      "execution_count": 14,
      "outputs": [
        {
          "output_type": "execute_result",
          "data": {
            "text/html": [
              "<div>\n",
              "<style scoped>\n",
              "    .dataframe tbody tr th:only-of-type {\n",
              "        vertical-align: middle;\n",
              "    }\n",
              "\n",
              "    .dataframe tbody tr th {\n",
              "        vertical-align: top;\n",
              "    }\n",
              "\n",
              "    .dataframe thead th {\n",
              "        text-align: right;\n",
              "    }\n",
              "</style>\n",
              "<table border=\"1\" class=\"dataframe\">\n",
              "  <thead>\n",
              "    <tr style=\"text-align: right;\">\n",
              "      <th></th>\n",
              "      <th>GDP per capita</th>\n",
              "      <th>Life satisfaction</th>\n",
              "    </tr>\n",
              "    <tr>\n",
              "      <th>Country</th>\n",
              "      <th></th>\n",
              "      <th></th>\n",
              "    </tr>\n",
              "  </thead>\n",
              "  <tbody>\n",
              "    <tr>\n",
              "      <th>Russia</th>\n",
              "      <td>9054.914</td>\n",
              "      <td>6.0</td>\n",
              "    </tr>\n",
              "    <tr>\n",
              "      <th>Turkey</th>\n",
              "      <td>9437.372</td>\n",
              "      <td>5.6</td>\n",
              "    </tr>\n",
              "    <tr>\n",
              "      <th>Hungary</th>\n",
              "      <td>12239.894</td>\n",
              "      <td>4.9</td>\n",
              "    </tr>\n",
              "    <tr>\n",
              "      <th>Poland</th>\n",
              "      <td>12495.334</td>\n",
              "      <td>5.8</td>\n",
              "    </tr>\n",
              "    <tr>\n",
              "      <th>Slovak Republic</th>\n",
              "      <td>15991.736</td>\n",
              "      <td>6.1</td>\n",
              "    </tr>\n",
              "    <tr>\n",
              "      <th>Estonia</th>\n",
              "      <td>17288.083</td>\n",
              "      <td>5.6</td>\n",
              "    </tr>\n",
              "    <tr>\n",
              "      <th>Greece</th>\n",
              "      <td>18064.288</td>\n",
              "      <td>4.8</td>\n",
              "    </tr>\n",
              "    <tr>\n",
              "      <th>Portugal</th>\n",
              "      <td>19121.592</td>\n",
              "      <td>5.1</td>\n",
              "    </tr>\n",
              "    <tr>\n",
              "      <th>Slovenia</th>\n",
              "      <td>20732.482</td>\n",
              "      <td>5.7</td>\n",
              "    </tr>\n",
              "    <tr>\n",
              "      <th>Spain</th>\n",
              "      <td>25864.721</td>\n",
              "      <td>6.5</td>\n",
              "    </tr>\n",
              "    <tr>\n",
              "      <th>Korea</th>\n",
              "      <td>27195.197</td>\n",
              "      <td>5.8</td>\n",
              "    </tr>\n",
              "    <tr>\n",
              "      <th>Italy</th>\n",
              "      <td>29866.581</td>\n",
              "      <td>6.0</td>\n",
              "    </tr>\n",
              "    <tr>\n",
              "      <th>Japan</th>\n",
              "      <td>32485.545</td>\n",
              "      <td>5.9</td>\n",
              "    </tr>\n",
              "    <tr>\n",
              "      <th>Israel</th>\n",
              "      <td>35343.336</td>\n",
              "      <td>7.4</td>\n",
              "    </tr>\n",
              "    <tr>\n",
              "      <th>New Zealand</th>\n",
              "      <td>37044.891</td>\n",
              "      <td>7.3</td>\n",
              "    </tr>\n",
              "    <tr>\n",
              "      <th>France</th>\n",
              "      <td>37675.006</td>\n",
              "      <td>6.5</td>\n",
              "    </tr>\n",
              "    <tr>\n",
              "      <th>Belgium</th>\n",
              "      <td>40106.632</td>\n",
              "      <td>6.9</td>\n",
              "    </tr>\n",
              "    <tr>\n",
              "      <th>Germany</th>\n",
              "      <td>40996.511</td>\n",
              "      <td>7.0</td>\n",
              "    </tr>\n",
              "    <tr>\n",
              "      <th>Finland</th>\n",
              "      <td>41973.988</td>\n",
              "      <td>7.4</td>\n",
              "    </tr>\n",
              "    <tr>\n",
              "      <th>Canada</th>\n",
              "      <td>43331.961</td>\n",
              "      <td>7.3</td>\n",
              "    </tr>\n",
              "    <tr>\n",
              "      <th>Netherlands</th>\n",
              "      <td>43603.115</td>\n",
              "      <td>7.3</td>\n",
              "    </tr>\n",
              "    <tr>\n",
              "      <th>Austria</th>\n",
              "      <td>43724.031</td>\n",
              "      <td>6.9</td>\n",
              "    </tr>\n",
              "    <tr>\n",
              "      <th>United Kingdom</th>\n",
              "      <td>43770.688</td>\n",
              "      <td>6.8</td>\n",
              "    </tr>\n",
              "    <tr>\n",
              "      <th>Sweden</th>\n",
              "      <td>49866.266</td>\n",
              "      <td>7.2</td>\n",
              "    </tr>\n",
              "    <tr>\n",
              "      <th>Iceland</th>\n",
              "      <td>50854.583</td>\n",
              "      <td>7.5</td>\n",
              "    </tr>\n",
              "    <tr>\n",
              "      <th>Australia</th>\n",
              "      <td>50961.865</td>\n",
              "      <td>7.3</td>\n",
              "    </tr>\n",
              "    <tr>\n",
              "      <th>Ireland</th>\n",
              "      <td>51350.744</td>\n",
              "      <td>7.0</td>\n",
              "    </tr>\n",
              "    <tr>\n",
              "      <th>Denmark</th>\n",
              "      <td>52114.165</td>\n",
              "      <td>7.5</td>\n",
              "    </tr>\n",
              "    <tr>\n",
              "      <th>United States</th>\n",
              "      <td>55805.204</td>\n",
              "      <td>7.2</td>\n",
              "    </tr>\n",
              "  </tbody>\n",
              "</table>\n",
              "</div>"
            ],
            "text/plain": [
              "                 GDP per capita  Life satisfaction\n",
              "Country                                           \n",
              "Russia                 9054.914                6.0\n",
              "Turkey                 9437.372                5.6\n",
              "Hungary               12239.894                4.9\n",
              "Poland                12495.334                5.8\n",
              "Slovak Republic       15991.736                6.1\n",
              "Estonia               17288.083                5.6\n",
              "Greece                18064.288                4.8\n",
              "Portugal              19121.592                5.1\n",
              "Slovenia              20732.482                5.7\n",
              "Spain                 25864.721                6.5\n",
              "Korea                 27195.197                5.8\n",
              "Italy                 29866.581                6.0\n",
              "Japan                 32485.545                5.9\n",
              "Israel                35343.336                7.4\n",
              "New Zealand           37044.891                7.3\n",
              "France                37675.006                6.5\n",
              "Belgium               40106.632                6.9\n",
              "Germany               40996.511                7.0\n",
              "Finland               41973.988                7.4\n",
              "Canada                43331.961                7.3\n",
              "Netherlands           43603.115                7.3\n",
              "Austria               43724.031                6.9\n",
              "United Kingdom        43770.688                6.8\n",
              "Sweden                49866.266                7.2\n",
              "Iceland               50854.583                7.5\n",
              "Australia             50961.865                7.3\n",
              "Ireland               51350.744                7.0\n",
              "Denmark               52114.165                7.5\n",
              "United States         55805.204                7.2"
            ]
          },
          "metadata": {
            "tags": []
          },
          "execution_count": 14
        }
      ]
    },
    {
      "cell_type": "code",
      "metadata": {
        "id": "LC664L_MBNP8",
        "colab_type": "code",
        "colab": {
          "base_uri": "https://localhost:8080/",
          "height": 700
        },
        "outputId": "52863b57-e7d3-400a-b19d-1105ef2ef905"
      },
      "source": [
        "X = np.c_[country_stats[\"GDP per capita\"]]\n",
        "X"
      ],
      "execution_count": 26,
      "outputs": [
        {
          "output_type": "execute_result",
          "data": {
            "text/plain": [
              "array([[ 9054.914],\n",
              "       [ 9437.372],\n",
              "       [12239.894],\n",
              "       [12495.334],\n",
              "       [15991.736],\n",
              "       [17288.083],\n",
              "       [18064.288],\n",
              "       [19121.592],\n",
              "       [20732.482],\n",
              "       [25864.721],\n",
              "       [27195.197],\n",
              "       [29866.581],\n",
              "       [32485.545],\n",
              "       [35343.336],\n",
              "       [37044.891],\n",
              "       [37675.006],\n",
              "       [40106.632],\n",
              "       [40996.511],\n",
              "       [41973.988],\n",
              "       [43331.961],\n",
              "       [43603.115],\n",
              "       [43724.031],\n",
              "       [43770.688],\n",
              "       [49866.266],\n",
              "       [50854.583],\n",
              "       [50961.865],\n",
              "       [51350.744],\n",
              "       [52114.165],\n",
              "       [55805.204]])"
            ]
          },
          "metadata": {
            "tags": []
          },
          "execution_count": 26
        }
      ]
    },
    {
      "cell_type": "code",
      "metadata": {
        "id": "mVn1zyAiCZdw",
        "colab_type": "code",
        "colab": {
          "base_uri": "https://localhost:8080/",
          "height": 700
        },
        "outputId": "694616d3-125d-421f-8273-0241795ee59f"
      },
      "source": [
        "y = np.c_[country_stats[\"Life satisfaction\"]]\n",
        "y"
      ],
      "execution_count": 27,
      "outputs": [
        {
          "output_type": "execute_result",
          "data": {
            "text/plain": [
              "array([[6. ],\n",
              "       [5.6],\n",
              "       [4.9],\n",
              "       [5.8],\n",
              "       [6.1],\n",
              "       [5.6],\n",
              "       [4.8],\n",
              "       [5.1],\n",
              "       [5.7],\n",
              "       [6.5],\n",
              "       [5.8],\n",
              "       [6. ],\n",
              "       [5.9],\n",
              "       [7.4],\n",
              "       [7.3],\n",
              "       [6.5],\n",
              "       [6.9],\n",
              "       [7. ],\n",
              "       [7.4],\n",
              "       [7.3],\n",
              "       [7.3],\n",
              "       [6.9],\n",
              "       [6.8],\n",
              "       [7.2],\n",
              "       [7.5],\n",
              "       [7.3],\n",
              "       [7. ],\n",
              "       [7.5],\n",
              "       [7.2]])"
            ]
          },
          "metadata": {
            "tags": []
          },
          "execution_count": 27
        }
      ]
    },
    {
      "cell_type": "code",
      "metadata": {
        "id": "Jfv3qEHgCglW",
        "colab_type": "code",
        "colab": {
          "base_uri": "https://localhost:8080/",
          "height": 303
        },
        "outputId": "97df7af5-190e-49f5-b119-9cc975ac7d05"
      },
      "source": [
        "country_stats.plot(x = \"GDP per capita\", y = \"Life satisfaction\", kind = \"scatter\")"
      ],
      "execution_count": 34,
      "outputs": [
        {
          "output_type": "execute_result",
          "data": {
            "text/plain": [
              "<matplotlib.axes._subplots.AxesSubplot at 0x7ff840ad7ef0>"
            ]
          },
          "metadata": {
            "tags": []
          },
          "execution_count": 34
        },
        {
          "output_type": "display_data",
          "data": {
            "image/png": "[encoded data removed]",
            "text/plain": [
              "<Figure size 432x288 with 1 Axes>"
            ]
          },
          "metadata": {
            "tags": [],
            "needs_background": "light"
          }
        }
      ]
    },
    {
      "cell_type": "code",
      "metadata": {
        "id": "950VBCkWDgIh",
        "colab_type": "code",
        "colab": {
          "base_uri": "https://localhost:8080/",
          "height": 41
        },
        "outputId": "5ba1f597-f644-4ae5-9287-c739cc3751fd"
      },
      "source": [
        "from sklearn.linear_model import LinearRegression\n",
        "linear_regression_model = LinearRegression()\n",
        "linear_regression_model.fit(X, y)"
      ],
      "execution_count": 35,
      "outputs": [
        {
          "output_type": "execute_result",
          "data": {
            "text/plain": [
              "LinearRegression(copy_X=True, fit_intercept=True, n_jobs=None, normalize=False)"
            ]
          },
          "metadata": {
            "tags": []
          },
          "execution_count": 35
        }
      ]
    },
    {
      "cell_type": "code",
      "metadata": {
        "id": "LFENE_4wGoi-",
        "colab_type": "code",
        "colab": {
          "base_uri": "https://localhost:8080/",
          "height": 41
        },
        "outputId": "a97972d5-f137-4a31-baf9-06803e4fd839"
      },
      "source": [
        "linear_regression_model.predict([[1698.26]]) #GDP per capita of Bangladesh"
      ],
      "execution_count": 36,
      "outputs": [
        {
          "output_type": "execute_result",
          "data": {
            "text/plain": [
              "array([[4.9364636]])"
            ]
          },
          "metadata": {
            "tags": []
          },
          "execution_count": 36
        }
      ]
    },
    {
      "cell_type": "code",
      "metadata": {
        "id": "ae51UAc_HIC7",
        "colab_type": "code",
        "colab": {
          "base_uri": "https://localhost:8080/",
          "height": 88
        },
        "outputId": "073182d5-82d0-4db5-9977-d41378cca24c"
      },
      "source": [
        "from sklearn.neighbors import KNeighborsRegressor\n",
        "knr = KNeighborsRegressor()\n",
        "knr.fit(X, y)"
      ],
      "execution_count": 38,
      "outputs": [
        {
          "output_type": "execute_result",
          "data": {
            "text/plain": [
              "KNeighborsRegressor(algorithm='auto', leaf_size=30, metric='minkowski',\n",
              "                    metric_params=None, n_jobs=None, n_neighbors=5, p=2,\n",
              "                    weights='uniform')"
            ]
          },
          "metadata": {
            "tags": []
          },
          "execution_count": 38
        }
      ]
    },
    {
      "cell_type": "code",
      "metadata": {
        "id": "Z_bMaJOgMG6R",
        "colab_type": "code",
        "colab": {
          "base_uri": "https://localhost:8080/",
          "height": 41
        },
        "outputId": "3f2414e6-18f6-42b7-ecb7-fc0cab51cd04"
      },
      "source": [
        "knr.predict([[1698.26]])"
      ],
      "execution_count": 39,
      "outputs": [
        {
          "output_type": "execute_result",
          "data": {
            "text/plain": [
              "array([[5.68]])"
            ]
          },
          "metadata": {
            "tags": []
          },
          "execution_count": 39
        }
      ]
    }
  ]
}
