{
  "nbformat": 4,
  "nbformat_minor": 0,
  "metadata": {
    "colab": {
      "name": "Moon Like Dataset.ipynb",
      "provenance": [],
      "collapsed_sections": []
    },
    "kernelspec": {
      "name": "python3",
      "display_name": "Python 3"
    }
  },
  "cells": [
    {
      "cell_type": "code",
      "metadata": {
        "id": "ETNvMtBT9fk1",
        "outputId": "6bc9e161-ae09-4095-cbea-1cb4a4e84210",
        "colab": {
          "base_uri": "https://localhost:8080/",
          "height": 263
        }
      },
      "source": [
        "### To get the running time for every cell \n",
        "!pip install ipython-autotime\n",
        "%load_ext autotime"
      ],
      "execution_count": null,
      "outputs": [
        {
          "output_type": "stream",
          "text": [
            "Collecting ipython-autotime\n",
            "  Downloading https://files.pythonhosted.org/packages/e6/f9/0626bbdb322e3a078d968e87e3b01341e7890544de891d0cb613641220e6/ipython-autotime-0.1.tar.bz2\n",
            "Building wheels for collected packages: ipython-autotime\n",
            "  Building wheel for ipython-autotime (setup.py) ... \u001b[?25l\u001b[?25hdone\n",
            "  Created wheel for ipython-autotime: filename=ipython_autotime-0.1-cp36-none-any.whl size=1831 sha256=8bba91ab76fcc59fbac0d42e98ca53c33e3ad8484a3e2326acd5510737a5e66d\n",
            "  Stored in directory: /root/.cache/pip/wheels/d2/df/81/2db1e54bc91002cec40334629bc39cfa86dff540b304ebcd6e\n",
            "Successfully built ipython-autotime\n",
            "Installing collected packages: ipython-autotime\n",
            "Successfully installed ipython-autotime-0.1\n"
          ],
          "name": "stdout"
        }
      ]
    },
    {
      "cell_type": "code",
      "metadata": {
        "id": "WfpW46bNJvVD",
        "outputId": "c133e07f-9f01-4eef-acca-bfb6aff38770",
        "colab": {
          "base_uri": "https://localhost:8080/",
          "height": 42
        }
      },
      "source": [
        "### Basic Imports\n",
        "import numpy as np\n",
        "import pandas as pd\n",
        "import cv2\n",
        "import os\n",
        "import math\n",
        "import IPython, PIL\n",
        "from IPython.display import Image\n",
        "import time\n",
        "import matplotlib.pyplot as plt\n",
        "%matplotlib inline"
      ],
      "execution_count": null,
      "outputs": [
        {
          "output_type": "stream",
          "text": [
            "time: 569 ms\n"
          ],
          "name": "stdout"
        }
      ]
    },
    {
      "cell_type": "code",
      "metadata": {
        "id": "A_E3zjcEjTRA",
        "outputId": "fd6b1c8c-2907-4b0b-f4d3-3e1f531dbaf7",
        "colab": {
          "base_uri": "https://localhost:8080/",
          "height": 42
        }
      },
      "source": [
        "### Making a Moon Like Dataset [X(x,y) -> y]\n",
        "from sklearn.datasets import make_moons\n",
        "X, y = make_moons(n_samples=1000, noise=0.1, random_state=0)"
      ],
      "execution_count": null,
      "outputs": [
        {
          "output_type": "stream",
          "text": [
            "time: 9.72 ms\n"
          ],
          "name": "stdout"
        }
      ]
    },
    {
      "cell_type": "code",
      "metadata": {
        "id": "AKfhtylRwVQv",
        "outputId": "13a3b07d-0f08-484b-e4b5-e67fec64bf8a",
        "colab": {
          "base_uri": "https://localhost:8080/",
          "height": 42
        }
      },
      "source": [
        "### Shape of X \n",
        "X.shape"
      ],
      "execution_count": null,
      "outputs": [
        {
          "output_type": "execute_result",
          "data": {
            "text/plain": [
              "(1000, 2)"
            ]
          },
          "metadata": {
            "tags": []
          },
          "execution_count": 15
        },
        {
          "output_type": "stream",
          "text": [
            "time: 4.4 ms\n"
          ],
          "name": "stdout"
        }
      ]
    },
    {
      "cell_type": "code",
      "metadata": {
        "id": "LK8JXF-OyL4M",
        "outputId": "05d75558-f8a5-42ba-ea96-059a2538ee75",
        "colab": {
          "base_uri": "https://localhost:8080/",
          "height": 42
        }
      },
      "source": [
        "p = X[y == 0] # The X elements with y = 0 that is prediction for that X is 0\n",
        "p.shape # Half of the items are with this prediction in the sample "
      ],
      "execution_count": null,
      "outputs": [
        {
          "output_type": "execute_result",
          "data": {
            "text/plain": [
              "(500, 2)"
            ]
          },
          "metadata": {
            "tags": []
          },
          "execution_count": 21
        },
        {
          "output_type": "stream",
          "text": [
            "time: 4.36 ms\n"
          ],
          "name": "stdout"
        }
      ]
    },
    {
      "cell_type": "code",
      "metadata": {
        "id": "5_UjHvPn_HOW",
        "outputId": "47dc23a6-5f12-402c-fc63-00700b6f564a",
        "colab": {
          "base_uri": "https://localhost:8080/",
          "height": 315
        }
      },
      "source": [
        "### Plot the dataset coloring according to prediction \n",
        "plt.plot(X[y==0, 0], X[y==0, 1], 'ob', alpha=0.5) \n",
        "plt.plot(X[y==1, 0], X[y==1, 1], 'xr', alpha=0.5)\n",
        "plt.legend(['0', '1'])"
      ],
      "execution_count": null,
      "outputs": [
        {
          "output_type": "execute_result",
          "data": {
            "text/plain": [
              "<matplotlib.legend.Legend at 0x7f434c1ed7f0>"
            ]
          },
          "metadata": {
            "tags": []
          },
          "execution_count": 22
        },
        {
          "output_type": "display_data",
          "data": {
            "image/png": "[encoded data removed]",
            "text/plain": [
              "<Figure size 432x288 with 1 Axes>"
            ]
          },
          "metadata": {
            "tags": [],
            "needs_background": "light"
          }
        },
        {
          "output_type": "stream",
          "text": [
            "time: 259 ms\n"
          ],
          "name": "stdout"
        }
      ]
    },
    {
      "cell_type": "code",
      "metadata": {
        "id": "KykqpkohAu2t",
        "outputId": "c281dbf7-83b8-45fe-a41a-84e9c67bfb2d",
        "colab": {
          "base_uri": "https://localhost:8080/",
          "height": 142
        }
      },
      "source": [
        "### Split the data as training and testing dataset\n",
        "\n",
        "from sklearn.model_selection import train_test_split\n",
        "X_train, X_test, y_train, y_test = \\\n",
        "train_test_split(X, y, test_size=0.3, random_state=42)\n",
        "\n",
        "print(X_train.shape)\n",
        "print(y_train.shape)\n",
        "print(X_test.shape)\n",
        "print(y_test.shape) "
      ],
      "execution_count": null,
      "outputs": [
        {
          "output_type": "stream",
          "text": [
            "(700, 2)\n",
            "(700,)\n",
            "(300, 2)\n",
            "(300,)\n",
            "time: 5.66 ms\n"
          ],
          "name": "stdout"
        }
      ]
    },
    {
      "cell_type": "code",
      "metadata": {
        "id": "oU5det9JBgXM",
        "outputId": "9a200df5-27fc-4e19-9cb2-f5b40c2eaf8c",
        "colab": {
          "base_uri": "https://localhost:8080/",
          "height": 42
        }
      },
      "source": [
        "### Import tensorflow to define and build the model and check its version\n",
        "### Version 2.x is preferable \n",
        "import tensorflow as tf\n",
        "print(tf.__version__)"
      ],
      "execution_count": null,
      "outputs": [
        {
          "output_type": "execute_result",
          "data": {
            "application/vnd.google.colaboratory.intrinsic+json": {
              "type": "string"
            },
            "text/plain": [
              "'2.3.0'"
            ]
          },
          "metadata": {
            "tags": []
          },
          "execution_count": 25
        },
        {
          "output_type": "stream",
          "text": [
            "time: 1.52 s\n"
          ],
          "name": "stdout"
        }
      ]
    },
    {
      "cell_type": "code",
      "metadata": {
        "id": "HjOehnAHChq8",
        "outputId": "335c020b-d524-4b3e-dbb9-b2e75c079ff9",
        "colab": {
          "base_uri": "https://localhost:8080/",
          "height": 42
        }
      },
      "source": [
        "### Define a model with just one layer (Not 'deep' at all though!)\n",
        "### Just a dense layer with sigmoid activation function with one unit\n",
        "\n",
        "model = tf.keras.models.Sequential([\n",
        "      tf.keras.layers.Dense(1, activation=\"sigmoid\", input_dim=2)\n",
        "])\n",
        "model.compile(tf.keras.optimizers.Adam(lr=0.05), \"binary_crossentropy\", metrics=[\"accuracy\"])"
      ],
      "execution_count": null,
      "outputs": [
        {
          "output_type": "stream",
          "text": [
            "time: 250 ms\n"
          ],
          "name": "stdout"
        }
      ]
    },
    {
      "cell_type": "code",
      "metadata": {
        "id": "bgDxCC_sE0Gz",
        "outputId": "7282e839-96ac-48d5-dde3-afc6e531027b",
        "colab": {
          "base_uri": "https://localhost:8080/",
          "height": 1000
        }
      },
      "source": [
        "### Fitting the training data to the defined model \n",
        "model.fit(X_train, y_train, epochs=100, verbose=1)"
      ],
      "execution_count": null,
      "outputs": [
        {
          "output_type": "stream",
          "text": [
            "Epoch 1/100\n",
            "22/22 [==============================] - 0s 1ms/step - loss: 0.7340 - accuracy: 0.4143\n",
            "Epoch 2/100\n",
            "22/22 [==============================] - 0s 2ms/step - loss: 0.4381 - accuracy: 0.7971\n",
            "Epoch 3/100\n",
            "22/22 [==============================] - 0s 1ms/step - loss: 0.3483 - accuracy: 0.8329\n",
            "Epoch 4/100\n",
            "22/22 [==============================] - 0s 1ms/step - loss: 0.3116 - accuracy: 0.8500\n",
            "Epoch 5/100\n",
            "22/22 [==============================] - 0s 1ms/step - loss: 0.2886 - accuracy: 0.8614\n",
            "Epoch 6/100\n",
            "22/22 [==============================] - 0s 1ms/step - loss: 0.2732 - accuracy: 0.8729\n",
            "Epoch 7/100\n",
            "22/22 [==============================] - 0s 1ms/step - loss: 0.2619 - accuracy: 0.8757\n",
            "Epoch 8/100\n",
            "22/22 [==============================] - 0s 960us/step - loss: 0.2551 - accuracy: 0.8786\n",
            "Epoch 9/100\n",
            "22/22 [==============================] - 0s 1ms/step - loss: 0.2472 - accuracy: 0.8800\n",
            "Epoch 10/100\n",
            "22/22 [==============================] - 0s 1ms/step - loss: 0.2413 - accuracy: 0.8829\n",
            "Epoch 11/100\n",
            "22/22 [==============================] - 0s 1ms/step - loss: 0.2387 - accuracy: 0.8871\n",
            "Epoch 12/100\n",
            "22/22 [==============================] - 0s 1ms/step - loss: 0.2358 - accuracy: 0.8871\n",
            "Epoch 13/100\n",
            "22/22 [==============================] - 0s 1ms/step - loss: 0.2334 - accuracy: 0.8843\n",
            "Epoch 14/100\n",
            "22/22 [==============================] - 0s 1ms/step - loss: 0.2316 - accuracy: 0.8843\n",
            "Epoch 15/100\n",
            "22/22 [==============================] - 0s 1ms/step - loss: 0.2301 - accuracy: 0.8843\n",
            "Epoch 16/100\n",
            "22/22 [==============================] - 0s 1ms/step - loss: 0.2288 - accuracy: 0.8871\n",
            "Epoch 17/100\n",
            "22/22 [==============================] - 0s 1ms/step - loss: 0.2281 - accuracy: 0.8871\n",
            "Epoch 18/100\n",
            "22/22 [==============================] - 0s 1ms/step - loss: 0.2296 - accuracy: 0.8857\n",
            "Epoch 19/100\n",
            "22/22 [==============================] - 0s 2ms/step - loss: 0.2272 - accuracy: 0.8900\n",
            "Epoch 20/100\n",
            "22/22 [==============================] - 0s 1ms/step - loss: 0.2258 - accuracy: 0.8857\n",
            "Epoch 21/100\n",
            "22/22 [==============================] - 0s 1ms/step - loss: 0.2261 - accuracy: 0.8871\n",
            "Epoch 22/100\n",
            "22/22 [==============================] - 0s 1ms/step - loss: 0.2265 - accuracy: 0.8871\n",
            "Epoch 23/100\n",
            "22/22 [==============================] - 0s 1ms/step - loss: 0.2267 - accuracy: 0.8857\n",
            "Epoch 24/100\n",
            "22/22 [==============================] - 0s 1ms/step - loss: 0.2249 - accuracy: 0.8857\n",
            "Epoch 25/100\n",
            "22/22 [==============================] - 0s 1ms/step - loss: 0.2253 - accuracy: 0.8886\n",
            "Epoch 26/100\n",
            "22/22 [==============================] - 0s 1ms/step - loss: 0.2246 - accuracy: 0.8886\n",
            "Epoch 27/100\n",
            "22/22 [==============================] - 0s 1ms/step - loss: 0.2251 - accuracy: 0.8857\n",
            "Epoch 28/100\n",
            "22/22 [==============================] - 0s 1ms/step - loss: 0.2243 - accuracy: 0.8871\n",
            "Epoch 29/100\n",
            "22/22 [==============================] - 0s 1ms/step - loss: 0.2245 - accuracy: 0.8886\n",
            "Epoch 30/100\n",
            "22/22 [==============================] - 0s 979us/step - loss: 0.2242 - accuracy: 0.8871\n",
            "Epoch 31/100\n",
            "22/22 [==============================] - 0s 1ms/step - loss: 0.2243 - accuracy: 0.8871\n",
            "Epoch 32/100\n",
            "22/22 [==============================] - 0s 1ms/step - loss: 0.2245 - accuracy: 0.8886\n",
            "Epoch 33/100\n",
            "22/22 [==============================] - 0s 1ms/step - loss: 0.2256 - accuracy: 0.8857\n",
            "Epoch 34/100\n",
            "22/22 [==============================] - 0s 1ms/step - loss: 0.2240 - accuracy: 0.8900\n",
            "Epoch 35/100\n",
            "22/22 [==============================] - 0s 1ms/step - loss: 0.2242 - accuracy: 0.8886\n",
            "Epoch 36/100\n",
            "22/22 [==============================] - 0s 1ms/step - loss: 0.2257 - accuracy: 0.8857\n",
            "Epoch 37/100\n",
            "22/22 [==============================] - 0s 1ms/step - loss: 0.2245 - accuracy: 0.8900\n",
            "Epoch 38/100\n",
            "22/22 [==============================] - 0s 1ms/step - loss: 0.2247 - accuracy: 0.8886\n",
            "Epoch 39/100\n",
            "22/22 [==============================] - 0s 1ms/step - loss: 0.2250 - accuracy: 0.8871\n",
            "Epoch 40/100\n",
            "22/22 [==============================] - 0s 1ms/step - loss: 0.2251 - accuracy: 0.8871\n",
            "Epoch 41/100\n",
            "22/22 [==============================] - 0s 1ms/step - loss: 0.2242 - accuracy: 0.8886\n",
            "Epoch 42/100\n",
            "22/22 [==============================] - 0s 976us/step - loss: 0.2248 - accuracy: 0.8886\n",
            "Epoch 43/100\n",
            "22/22 [==============================] - 0s 1ms/step - loss: 0.2251 - accuracy: 0.8886\n",
            "Epoch 44/100\n",
            "22/22 [==============================] - 0s 1ms/step - loss: 0.2253 - accuracy: 0.8900\n",
            "Epoch 45/100\n",
            "22/22 [==============================] - 0s 977us/step - loss: 0.2242 - accuracy: 0.8886\n",
            "Epoch 46/100\n",
            "22/22 [==============================] - 0s 1ms/step - loss: 0.2242 - accuracy: 0.8900\n",
            "Epoch 47/100\n",
            "22/22 [==============================] - 0s 924us/step - loss: 0.2247 - accuracy: 0.8900\n",
            "Epoch 48/100\n",
            "22/22 [==============================] - 0s 1ms/step - loss: 0.2243 - accuracy: 0.8886\n",
            "Epoch 49/100\n",
            "22/22 [==============================] - 0s 1ms/step - loss: 0.2247 - accuracy: 0.8886\n",
            "Epoch 50/100\n",
            "22/22 [==============================] - 0s 1ms/step - loss: 0.2249 - accuracy: 0.8886\n",
            "Epoch 51/100\n",
            "22/22 [==============================] - 0s 976us/step - loss: 0.2242 - accuracy: 0.8886\n",
            "Epoch 52/100\n",
            "22/22 [==============================] - 0s 999us/step - loss: 0.2248 - accuracy: 0.8900\n",
            "Epoch 53/100\n",
            "22/22 [==============================] - 0s 1ms/step - loss: 0.2250 - accuracy: 0.8857\n",
            "Epoch 54/100\n",
            "22/22 [==============================] - 0s 1ms/step - loss: 0.2247 - accuracy: 0.8871\n",
            "Epoch 55/100\n",
            "22/22 [==============================] - 0s 1ms/step - loss: 0.2248 - accuracy: 0.8900\n",
            "Epoch 56/100\n",
            "22/22 [==============================] - 0s 1ms/step - loss: 0.2250 - accuracy: 0.8886\n",
            "Epoch 57/100\n",
            "22/22 [==============================] - 0s 1ms/step - loss: 0.2259 - accuracy: 0.8857\n",
            "Epoch 58/100\n",
            "22/22 [==============================] - 0s 1ms/step - loss: 0.2246 - accuracy: 0.8871\n",
            "Epoch 59/100\n",
            "22/22 [==============================] - 0s 1ms/step - loss: 0.2245 - accuracy: 0.8886\n",
            "Epoch 60/100\n",
            "22/22 [==============================] - 0s 1ms/step - loss: 0.2243 - accuracy: 0.8886\n",
            "Epoch 61/100\n",
            "22/22 [==============================] - 0s 1ms/step - loss: 0.2247 - accuracy: 0.8886\n",
            "Epoch 62/100\n",
            "22/22 [==============================] - 0s 1ms/step - loss: 0.2259 - accuracy: 0.8914\n",
            "Epoch 63/100\n",
            "22/22 [==============================] - 0s 1ms/step - loss: 0.2253 - accuracy: 0.8886\n",
            "Epoch 64/100\n",
            "22/22 [==============================] - 0s 1ms/step - loss: 0.2242 - accuracy: 0.8886\n",
            "Epoch 65/100\n",
            "22/22 [==============================] - 0s 1ms/step - loss: 0.2243 - accuracy: 0.8871\n",
            "Epoch 66/100\n",
            "22/22 [==============================] - 0s 961us/step - loss: 0.2253 - accuracy: 0.8886\n",
            "Epoch 67/100\n",
            "22/22 [==============================] - 0s 1ms/step - loss: 0.2241 - accuracy: 0.8886\n",
            "Epoch 68/100\n",
            "22/22 [==============================] - 0s 1ms/step - loss: 0.2254 - accuracy: 0.8900\n",
            "Epoch 69/100\n",
            "22/22 [==============================] - 0s 1ms/step - loss: 0.2247 - accuracy: 0.8900\n",
            "Epoch 70/100\n",
            "22/22 [==============================] - 0s 1ms/step - loss: 0.2242 - accuracy: 0.8886\n",
            "Epoch 71/100\n",
            "22/22 [==============================] - 0s 981us/step - loss: 0.2245 - accuracy: 0.8871\n",
            "Epoch 72/100\n",
            "22/22 [==============================] - 0s 1ms/step - loss: 0.2252 - accuracy: 0.8900\n",
            "Epoch 73/100\n",
            "22/22 [==============================] - 0s 1ms/step - loss: 0.2250 - accuracy: 0.8900\n",
            "Epoch 74/100\n",
            "22/22 [==============================] - 0s 1ms/step - loss: 0.2251 - accuracy: 0.8900\n",
            "Epoch 75/100\n",
            "22/22 [==============================] - 0s 993us/step - loss: 0.2242 - accuracy: 0.8871\n",
            "Epoch 76/100\n",
            "22/22 [==============================] - 0s 1ms/step - loss: 0.2244 - accuracy: 0.8914\n",
            "Epoch 77/100\n",
            "22/22 [==============================] - 0s 1ms/step - loss: 0.2246 - accuracy: 0.8871\n",
            "Epoch 78/100\n",
            "22/22 [==============================] - 0s 1ms/step - loss: 0.2248 - accuracy: 0.8914\n",
            "Epoch 79/100\n",
            "22/22 [==============================] - 0s 1ms/step - loss: 0.2243 - accuracy: 0.8871\n",
            "Epoch 80/100\n",
            "22/22 [==============================] - 0s 1ms/step - loss: 0.2243 - accuracy: 0.8871\n",
            "Epoch 81/100\n",
            "22/22 [==============================] - 0s 983us/step - loss: 0.2245 - accuracy: 0.8886\n",
            "Epoch 82/100\n",
            "22/22 [==============================] - 0s 1ms/step - loss: 0.2248 - accuracy: 0.8886\n",
            "Epoch 83/100\n",
            "22/22 [==============================] - 0s 1ms/step - loss: 0.2247 - accuracy: 0.8886\n",
            "Epoch 84/100\n",
            "22/22 [==============================] - 0s 1ms/step - loss: 0.2255 - accuracy: 0.8886\n",
            "Epoch 85/100\n",
            "22/22 [==============================] - 0s 1ms/step - loss: 0.2242 - accuracy: 0.8900\n",
            "Epoch 86/100\n",
            "22/22 [==============================] - 0s 980us/step - loss: 0.2247 - accuracy: 0.8886\n",
            "Epoch 87/100\n",
            "22/22 [==============================] - 0s 1ms/step - loss: 0.2256 - accuracy: 0.8871\n",
            "Epoch 88/100\n",
            "22/22 [==============================] - 0s 982us/step - loss: 0.2249 - accuracy: 0.8900\n",
            "Epoch 89/100\n",
            "22/22 [==============================] - 0s 981us/step - loss: 0.2249 - accuracy: 0.8871\n",
            "Epoch 90/100\n",
            "22/22 [==============================] - 0s 883us/step - loss: 0.2243 - accuracy: 0.8886\n",
            "Epoch 91/100\n",
            "22/22 [==============================] - 0s 971us/step - loss: 0.2241 - accuracy: 0.8886\n",
            "Epoch 92/100\n",
            "22/22 [==============================] - 0s 1ms/step - loss: 0.2248 - accuracy: 0.8900\n",
            "Epoch 93/100\n",
            "22/22 [==============================] - 0s 962us/step - loss: 0.2242 - accuracy: 0.8886\n",
            "Epoch 94/100\n",
            "22/22 [==============================] - 0s 990us/step - loss: 0.2246 - accuracy: 0.8886\n",
            "Epoch 95/100\n",
            "22/22 [==============================] - 0s 961us/step - loss: 0.2245 - accuracy: 0.8886\n",
            "Epoch 96/100\n",
            "22/22 [==============================] - 0s 1ms/step - loss: 0.2247 - accuracy: 0.8886\n",
            "Epoch 97/100\n",
            "22/22 [==============================] - 0s 934us/step - loss: 0.2254 - accuracy: 0.8871\n",
            "Epoch 98/100\n",
            "22/22 [==============================] - 0s 966us/step - loss: 0.2243 - accuracy: 0.8886\n",
            "Epoch 99/100\n",
            "22/22 [==============================] - 0s 953us/step - loss: 0.2243 - accuracy: 0.8871\n",
            "Epoch 100/100\n",
            "22/22 [==============================] - 0s 996us/step - loss: 0.2256 - accuracy: 0.8886\n"
          ],
          "name": "stdout"
        },
        {
          "output_type": "execute_result",
          "data": {
            "text/plain": [
              "<tensorflow.python.keras.callbacks.History at 0x7f4313b757f0>"
            ]
          },
          "metadata": {
            "tags": []
          },
          "execution_count": 28
        },
        {
          "output_type": "stream",
          "text": [
            "time: 3.74 s\n"
          ],
          "name": "stdout"
        }
      ]
    },
    {
      "cell_type": "code",
      "metadata": {
        "id": "nd5Blc_zF33d",
        "outputId": "764f4dd9-b706-4e43-b9d2-1b155acc23b3",
        "colab": {
          "base_uri": "https://localhost:8080/",
          "height": 92
        }
      },
      "source": [
        "### Evaluate with Test Dataset\n",
        "test_loss, test_acc = model.evaluate(X_test, y_test)\n",
        "print(test_loss, test_acc)"
      ],
      "execution_count": null,
      "outputs": [
        {
          "output_type": "stream",
          "text": [
            "10/10 [==============================] - 0s 1ms/step - loss: 0.3159 - accuracy: 0.8367\n",
            "0.3158975839614868 0.8366666436195374\n",
            "time: 188 ms\n"
          ],
          "name": "stdout"
        }
      ]
    },
    {
      "cell_type": "code",
      "metadata": {
        "id": "tYz2n7VjGNkf",
        "outputId": "27618f9f-daa0-443f-a8c1-c71f7b155ebc",
        "colab": {
          "base_uri": "https://localhost:8080/",
          "height": 383
        }
      },
      "source": [
        "### Plot the Decision Boundary\n",
        "from mlxtend.plotting import plot_decision_regions\n",
        "\n",
        "plot_decision_regions(X=X, y=y, clf=model, legend=2)\n",
        "plt.xlabel(\"x\", size=5)\n",
        "plt.ylabel(\"y\", size=5)\n",
        "plt.title(\"Plot Decision Region Boundary\", size=10)\n",
        "plt.show() "
      ],
      "execution_count": null,
      "outputs": [
        {
          "output_type": "stream",
          "text": [
            "/usr/local/lib/python3.6/dist-packages/mlxtend/plotting/decision_regions.py:244: MatplotlibDeprecationWarning: Passing unsupported keyword arguments to axis() will raise a TypeError in 3.3.\n",
            "  ax.axis(xmin=xx.min(), xmax=xx.max(), y_min=yy.min(), y_max=yy.max())\n"
          ],
          "name": "stderr"
        },
        {
          "output_type": "display_data",
          "data": {
            "image/png": "[encoded data removed]",
            "text/plain": [
              "<Figure size 432x288 with 1 Axes>"
            ]
          },
          "metadata": {
            "tags": [],
            "needs_background": "light"
          }
        },
        {
          "output_type": "stream",
          "text": [
            "time: 2.19 s\n"
          ],
          "name": "stdout"
        }
      ]
    },
    {
      "cell_type": "code",
      "metadata": {
        "id": "ccMmERJ9HVDr",
        "outputId": "5029a44e-0f94-46ff-9271-9c8145a676d4",
        "colab": {
          "base_uri": "https://localhost:8080/",
          "height": 42
        }
      },
      "source": [
        "### Define a New Model and Compile (Some Deeper!)\n",
        "model = tf.keras.models.Sequential()\n",
        "model.add(tf.keras.layers.Dense(4, input_shape=(2,), activation=\"tanh\"))\n",
        "model.add(tf.keras.layers.Dense(2, activation=\"tanh\"))\n",
        "model.add(tf.keras.layers.Dense(1, activation=\"sigmoid\"))\n",
        "\n",
        "model.compile(tf.keras.optimizers.Adam(lr=0.05), \"binary_crossentropy\", metrics=[\"accuracy\"])"
      ],
      "execution_count": null,
      "outputs": [
        {
          "output_type": "stream",
          "text": [
            "time: 51.7 ms\n"
          ],
          "name": "stdout"
        }
      ]
    },
    {
      "cell_type": "code",
      "metadata": {
        "id": "Q86ncCuIQpqI",
        "outputId": "5adde0f7-fa20-45c1-e080-b0fef7a4bf7e",
        "colab": {
          "base_uri": "https://localhost:8080/",
          "height": 1000
        }
      },
      "source": [
        "### Traiing the new model with training data\n",
        "model.fit(X_train, y_train, epochs=100, verbose=1)"
      ],
      "execution_count": null,
      "outputs": [
        {
          "output_type": "stream",
          "text": [
            "Epoch 1/100\n",
            "22/22 [==============================] - 0s 1ms/step - loss: 0.5438 - accuracy: 0.7714\n",
            "Epoch 2/100\n",
            "22/22 [==============================] - 0s 954us/step - loss: 0.2949 - accuracy: 0.8900\n",
            "Epoch 3/100\n",
            "22/22 [==============================] - 0s 1ms/step - loss: 0.2603 - accuracy: 0.8871\n",
            "Epoch 4/100\n",
            "22/22 [==============================] - 0s 1ms/step - loss: 0.2329 - accuracy: 0.8943\n",
            "Epoch 5/100\n",
            "22/22 [==============================] - 0s 1ms/step - loss: 0.2155 - accuracy: 0.8886\n",
            "Epoch 6/100\n",
            "22/22 [==============================] - 0s 1ms/step - loss: 0.2020 - accuracy: 0.8986\n",
            "Epoch 7/100\n",
            "22/22 [==============================] - 0s 1ms/step - loss: 0.2029 - accuracy: 0.9000\n",
            "Epoch 8/100\n",
            "22/22 [==============================] - 0s 963us/step - loss: 0.2024 - accuracy: 0.9071\n",
            "Epoch 9/100\n",
            "22/22 [==============================] - 0s 1ms/step - loss: 0.1762 - accuracy: 0.9157\n",
            "Epoch 10/100\n",
            "22/22 [==============================] - 0s 1ms/step - loss: 0.1747 - accuracy: 0.9129\n",
            "Epoch 11/100\n",
            "22/22 [==============================] - 0s 1ms/step - loss: 0.1747 - accuracy: 0.9100\n",
            "Epoch 12/100\n",
            "22/22 [==============================] - 0s 998us/step - loss: 0.1413 - accuracy: 0.9257\n",
            "Epoch 13/100\n",
            "22/22 [==============================] - 0s 972us/step - loss: 0.1232 - accuracy: 0.9414\n",
            "Epoch 14/100\n",
            "22/22 [==============================] - 0s 994us/step - loss: 0.1012 - accuracy: 0.9657\n",
            "Epoch 15/100\n",
            "22/22 [==============================] - 0s 957us/step - loss: 0.0731 - accuracy: 0.9771\n",
            "Epoch 16/100\n",
            "22/22 [==============================] - 0s 1ms/step - loss: 0.0550 - accuracy: 0.9857\n",
            "Epoch 17/100\n",
            "22/22 [==============================] - 0s 1ms/step - loss: 0.0338 - accuracy: 0.9900\n",
            "Epoch 18/100\n",
            "22/22 [==============================] - 0s 1ms/step - loss: 0.0327 - accuracy: 0.9914\n",
            "Epoch 19/100\n",
            "22/22 [==============================] - 0s 1ms/step - loss: 0.0194 - accuracy: 0.9957\n",
            "Epoch 20/100\n",
            "22/22 [==============================] - 0s 1ms/step - loss: 0.0158 - accuracy: 0.9957\n",
            "Epoch 21/100\n",
            "22/22 [==============================] - 0s 1ms/step - loss: 0.0126 - accuracy: 0.9957\n",
            "Epoch 22/100\n",
            "22/22 [==============================] - 0s 1ms/step - loss: 0.0152 - accuracy: 0.9957\n",
            "Epoch 23/100\n",
            "22/22 [==============================] - 0s 969us/step - loss: 0.0154 - accuracy: 0.9971\n",
            "Epoch 24/100\n",
            "22/22 [==============================] - 0s 945us/step - loss: 0.0160 - accuracy: 0.9957\n",
            "Epoch 25/100\n",
            "22/22 [==============================] - 0s 930us/step - loss: 0.0154 - accuracy: 0.9971\n",
            "Epoch 26/100\n",
            "22/22 [==============================] - 0s 1ms/step - loss: 0.0111 - accuracy: 0.9971\n",
            "Epoch 27/100\n",
            "22/22 [==============================] - 0s 1ms/step - loss: 0.0185 - accuracy: 0.9886\n",
            "Epoch 28/100\n",
            "22/22 [==============================] - 0s 1ms/step - loss: 0.0705 - accuracy: 0.9800\n",
            "Epoch 29/100\n",
            "22/22 [==============================] - 0s 1ms/step - loss: 0.0269 - accuracy: 0.9929\n",
            "Epoch 30/100\n",
            "22/22 [==============================] - 0s 1ms/step - loss: 0.0190 - accuracy: 0.9914\n",
            "Epoch 31/100\n",
            "22/22 [==============================] - 0s 1ms/step - loss: 0.0169 - accuracy: 0.9943\n",
            "Epoch 32/100\n",
            "22/22 [==============================] - 0s 1ms/step - loss: 0.0114 - accuracy: 0.9971\n",
            "Epoch 33/100\n",
            "22/22 [==============================] - 0s 1ms/step - loss: 0.0082 - accuracy: 0.9971\n",
            "Epoch 34/100\n",
            "22/22 [==============================] - 0s 1ms/step - loss: 0.0067 - accuracy: 0.9971\n",
            "Epoch 35/100\n",
            "22/22 [==============================] - 0s 2ms/step - loss: 0.0071 - accuracy: 0.9971\n",
            "Epoch 36/100\n",
            "22/22 [==============================] - 0s 1ms/step - loss: 0.0071 - accuracy: 0.9986\n",
            "Epoch 37/100\n",
            "22/22 [==============================] - 0s 979us/step - loss: 0.0091 - accuracy: 0.9986\n",
            "Epoch 38/100\n",
            "22/22 [==============================] - 0s 1ms/step - loss: 0.0063 - accuracy: 0.9986\n",
            "Epoch 39/100\n",
            "22/22 [==============================] - 0s 1ms/step - loss: 0.0120 - accuracy: 0.9943\n",
            "Epoch 40/100\n",
            "22/22 [==============================] - 0s 1ms/step - loss: 0.0085 - accuracy: 0.9957\n",
            "Epoch 41/100\n",
            "22/22 [==============================] - 0s 1ms/step - loss: 0.0047 - accuracy: 0.9971\n",
            "Epoch 42/100\n",
            "22/22 [==============================] - 0s 1ms/step - loss: 0.0063 - accuracy: 0.9971\n",
            "Epoch 43/100\n",
            "22/22 [==============================] - 0s 1ms/step - loss: 0.0065 - accuracy: 0.9971\n",
            "Epoch 44/100\n",
            "22/22 [==============================] - 0s 1ms/step - loss: 0.0091 - accuracy: 0.9971\n",
            "Epoch 45/100\n",
            "22/22 [==============================] - 0s 1ms/step - loss: 0.0065 - accuracy: 0.9971\n",
            "Epoch 46/100\n",
            "22/22 [==============================] - 0s 1ms/step - loss: 0.0071 - accuracy: 0.9986\n",
            "Epoch 47/100\n",
            "22/22 [==============================] - 0s 1ms/step - loss: 0.0066 - accuracy: 0.9971\n",
            "Epoch 48/100\n",
            "22/22 [==============================] - 0s 1ms/step - loss: 0.0125 - accuracy: 0.9957\n",
            "Epoch 49/100\n",
            "22/22 [==============================] - 0s 1ms/step - loss: 0.0056 - accuracy: 0.9986\n",
            "Epoch 50/100\n",
            "22/22 [==============================] - 0s 1ms/step - loss: 0.0052 - accuracy: 0.9986\n",
            "Epoch 51/100\n",
            "22/22 [==============================] - 0s 1ms/step - loss: 0.0046 - accuracy: 0.9986\n",
            "Epoch 52/100\n",
            "22/22 [==============================] - 0s 1ms/step - loss: 0.0053 - accuracy: 0.9986\n",
            "Epoch 53/100\n",
            "22/22 [==============================] - 0s 1ms/step - loss: 0.0046 - accuracy: 0.9986\n",
            "Epoch 54/100\n",
            "22/22 [==============================] - 0s 1ms/step - loss: 0.0137 - accuracy: 0.9971\n",
            "Epoch 55/100\n",
            "22/22 [==============================] - 0s 1ms/step - loss: 0.0062 - accuracy: 0.9986\n",
            "Epoch 56/100\n",
            "22/22 [==============================] - 0s 1ms/step - loss: 0.0046 - accuracy: 0.9986\n",
            "Epoch 57/100\n",
            "22/22 [==============================] - 0s 1ms/step - loss: 0.0089 - accuracy: 0.9971\n",
            "Epoch 58/100\n",
            "22/22 [==============================] - 0s 1ms/step - loss: 0.0154 - accuracy: 0.9943\n",
            "Epoch 59/100\n",
            "22/22 [==============================] - 0s 1ms/step - loss: 0.0149 - accuracy: 0.9929\n",
            "Epoch 60/100\n",
            "22/22 [==============================] - 0s 1ms/step - loss: 0.0070 - accuracy: 0.9971\n",
            "Epoch 61/100\n",
            "22/22 [==============================] - 0s 1ms/step - loss: 0.0041 - accuracy: 0.9971\n",
            "Epoch 62/100\n",
            "22/22 [==============================] - 0s 1ms/step - loss: 0.0054 - accuracy: 0.9986\n",
            "Epoch 63/100\n",
            "22/22 [==============================] - 0s 1ms/step - loss: 0.0036 - accuracy: 0.9986\n",
            "Epoch 64/100\n",
            "22/22 [==============================] - 0s 1ms/step - loss: 0.0070 - accuracy: 0.9971\n",
            "Epoch 65/100\n",
            "22/22 [==============================] - 0s 1ms/step - loss: 0.0055 - accuracy: 0.9986\n",
            "Epoch 66/100\n",
            "22/22 [==============================] - 0s 1ms/step - loss: 0.0115 - accuracy: 0.9957\n",
            "Epoch 67/100\n",
            "22/22 [==============================] - 0s 1ms/step - loss: 0.0059 - accuracy: 0.9986\n",
            "Epoch 68/100\n",
            "22/22 [==============================] - 0s 1ms/step - loss: 0.0059 - accuracy: 0.9957\n",
            "Epoch 69/100\n",
            "22/22 [==============================] - 0s 1ms/step - loss: 0.0046 - accuracy: 0.9986\n",
            "Epoch 70/100\n",
            "22/22 [==============================] - 0s 1ms/step - loss: 0.0095 - accuracy: 0.9971\n",
            "Epoch 71/100\n",
            "22/22 [==============================] - 0s 1ms/step - loss: 0.0239 - accuracy: 0.9900\n",
            "Epoch 72/100\n",
            "22/22 [==============================] - 0s 2ms/step - loss: 0.0180 - accuracy: 0.9971\n",
            "Epoch 73/100\n",
            "22/22 [==============================] - 0s 1ms/step - loss: 0.0121 - accuracy: 0.9957\n",
            "Epoch 74/100\n",
            "22/22 [==============================] - 0s 1ms/step - loss: 0.0119 - accuracy: 0.9971\n",
            "Epoch 75/100\n",
            "22/22 [==============================] - 0s 1ms/step - loss: 0.0097 - accuracy: 0.9957\n",
            "Epoch 76/100\n",
            "22/22 [==============================] - 0s 1ms/step - loss: 0.0164 - accuracy: 0.9971\n",
            "Epoch 77/100\n",
            "22/22 [==============================] - 0s 1ms/step - loss: 0.0051 - accuracy: 0.9986\n",
            "Epoch 78/100\n",
            "22/22 [==============================] - 0s 1ms/step - loss: 0.0053 - accuracy: 0.9986\n",
            "Epoch 79/100\n",
            "22/22 [==============================] - 0s 1ms/step - loss: 0.0137 - accuracy: 0.9929\n",
            "Epoch 80/100\n",
            "22/22 [==============================] - 0s 1ms/step - loss: 0.0093 - accuracy: 0.9957\n",
            "Epoch 81/100\n",
            "22/22 [==============================] - 0s 1ms/step - loss: 0.0097 - accuracy: 0.9971\n",
            "Epoch 82/100\n",
            "22/22 [==============================] - 0s 1ms/step - loss: 0.0039 - accuracy: 0.9986\n",
            "Epoch 83/100\n",
            "22/22 [==============================] - 0s 954us/step - loss: 0.0036 - accuracy: 0.9986\n",
            "Epoch 84/100\n",
            "22/22 [==============================] - 0s 1ms/step - loss: 0.0050 - accuracy: 0.9971\n",
            "Epoch 85/100\n",
            "22/22 [==============================] - 0s 1ms/step - loss: 0.0038 - accuracy: 0.9986\n",
            "Epoch 86/100\n",
            "22/22 [==============================] - 0s 1ms/step - loss: 0.0046 - accuracy: 0.9971\n",
            "Epoch 87/100\n",
            "22/22 [==============================] - 0s 1ms/step - loss: 0.0057 - accuracy: 0.9986\n",
            "Epoch 88/100\n",
            "22/22 [==============================] - 0s 962us/step - loss: 0.0041 - accuracy: 0.9986\n",
            "Epoch 89/100\n",
            "22/22 [==============================] - 0s 1ms/step - loss: 0.0066 - accuracy: 0.9957\n",
            "Epoch 90/100\n",
            "22/22 [==============================] - 0s 1ms/step - loss: 0.0035 - accuracy: 0.9986\n",
            "Epoch 91/100\n",
            "22/22 [==============================] - 0s 1ms/step - loss: 0.0068 - accuracy: 0.9971\n",
            "Epoch 92/100\n",
            "22/22 [==============================] - 0s 1ms/step - loss: 0.0055 - accuracy: 0.9986\n",
            "Epoch 93/100\n",
            "22/22 [==============================] - 0s 1ms/step - loss: 0.0040 - accuracy: 0.9986\n",
            "Epoch 94/100\n",
            "22/22 [==============================] - 0s 1ms/step - loss: 0.0033 - accuracy: 0.9971\n",
            "Epoch 95/100\n",
            "22/22 [==============================] - 0s 1ms/step - loss: 0.0053 - accuracy: 0.9971\n",
            "Epoch 96/100\n",
            "22/22 [==============================] - 0s 1ms/step - loss: 0.0071 - accuracy: 0.9986\n",
            "Epoch 97/100\n",
            "22/22 [==============================] - 0s 1ms/step - loss: 0.0043 - accuracy: 0.9986\n",
            "Epoch 98/100\n",
            "22/22 [==============================] - 0s 1ms/step - loss: 0.0044 - accuracy: 0.9986\n",
            "Epoch 99/100\n",
            "22/22 [==============================] - 0s 1ms/step - loss: 0.0055 - accuracy: 0.9971\n",
            "Epoch 100/100\n",
            "22/22 [==============================] - 0s 1ms/step - loss: 0.0140 - accuracy: 0.9957\n"
          ],
          "name": "stdout"
        },
        {
          "output_type": "execute_result",
          "data": {
            "text/plain": [
              "<tensorflow.python.keras.callbacks.History at 0x7f430ea066d8>"
            ]
          },
          "metadata": {
            "tags": []
          },
          "execution_count": 32
        },
        {
          "output_type": "stream",
          "text": [
            "time: 3.38 s\n"
          ],
          "name": "stdout"
        }
      ]
    },
    {
      "cell_type": "code",
      "metadata": {
        "id": "xCEu2_pbREmF",
        "outputId": "521c4662-1665-444f-8dfe-d5ce82d58426",
        "colab": {
          "base_uri": "https://localhost:8080/",
          "height": 92
        }
      },
      "source": [
        "### Find the accuracy with the test data\n",
        "X_train_pred = model.predict_classes(X_train)\n",
        "X_test_pred = model.predict_classes(X_test)\n",
        "\n",
        "from sklearn.metrics import accuracy_score\n",
        "\n",
        "accuracyScoreTrain = accuracy_score(y_train, X_train_pred)\n",
        "accuracyScoreTest = accuracy_score(y_test, X_test_pred)\n",
        "\n",
        "print(\"Accuracy Score in Train Data:\", accuracyScoreTrain)\n",
        "print(\"Accuracy Score in Test Data:\", accuracyScoreTest)\n"
      ],
      "execution_count": null,
      "outputs": [
        {
          "output_type": "stream",
          "text": [
            "Accuracy Score in Train Data: 0.9985714285714286\n",
            "Accuracy Score in Test Data: 0.9966666666666667\n",
            "time: 116 ms\n"
          ],
          "name": "stdout"
        }
      ]
    },
    {
      "cell_type": "code",
      "metadata": {
        "id": "vMgwHsCKUmVP",
        "outputId": "f4bb8ee6-5013-4583-816f-4f2e73f854e0",
        "colab": {
          "base_uri": "https://localhost:8080/",
          "height": 383
        }
      },
      "source": [
        "### Plot new decision boundary. (Pretty better than before, na? :D )\n",
        "plot_decision_regions(X=X, y=y, clf=model, legend=2)\n",
        "plt.xlabel(\"x\", size=5)\n",
        "plt.ylabel(\"y\", size=5)\n",
        "plt.title('Plot Decision Region Boundary', size=10)\n",
        "plt.show()"
      ],
      "execution_count": null,
      "outputs": [
        {
          "output_type": "stream",
          "text": [
            "/usr/local/lib/python3.6/dist-packages/mlxtend/plotting/decision_regions.py:244: MatplotlibDeprecationWarning: Passing unsupported keyword arguments to axis() will raise a TypeError in 3.3.\n",
            "  ax.axis(xmin=xx.min(), xmax=xx.max(), y_min=yy.min(), y_max=yy.max())\n"
          ],
          "name": "stderr"
        },
        {
          "output_type": "display_data",
          "data": {
            "image/png": "[encoded data removed]",
            "text/plain": [
              "<Figure size 432x288 with 1 Axes>"
            ]
          },
          "metadata": {
            "tags": [],
            "needs_background": "light"
          }
        },
        {
          "output_type": "stream",
          "text": [
            "time: 3.06 s\n"
          ],
          "name": "stdout"
        }
      ]
    },
    {
      "cell_type": "code",
      "metadata": {
        "id": "BWRiV-0fdvLe"
      },
      "source": [
        "### Reference Link (Written in Bengali)\n",
        "ReferenceLink = \"https://is.gd/BdxWbR\""
      ],
      "execution_count": null,
      "outputs": []
    }
  ]
}