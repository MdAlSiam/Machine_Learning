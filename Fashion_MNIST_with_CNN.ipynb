{
  "nbformat": 4,
  "nbformat_minor": 0,
  "metadata": {
    "colab": {
      "name": "Fashion_MNIST_with_CNN.ipynb",
      "provenance": [],
      "collapsed_sections": [],
      "authorship_tag": "ABX9TyPqceez4NLRhvRIm+XtM7+6",
      "include_colab_link": true
    },
    "kernelspec": {
      "name": "python3",
      "display_name": "Python 3"
    },
    "accelerator": "GPU"
  },
  "cells": [
    {
      "cell_type": "markdown",
      "metadata": {
        "id": "view-in-github",
        "colab_type": "text"
      },
      "source": [
        "<a href=\"https://colab.research.google.com/github/MdAlSiam/Machine_Learning/blob/master/Fashion_MNIST_with_CNN.ipynb\" target=\"_parent\"><img src=\"https://colab.research.google.com/assets/colab-badge.svg\" alt=\"Open In Colab\"/></a>"
      ]
    },
    {
      "cell_type": "code",
      "metadata": {
        "id": "phWLJRmShBL1",
        "colab_type": "code",
        "colab": {}
      },
      "source": [
        "import numpy as np\n",
        "import pandas as pd\n",
        "from numpy import mean\n",
        "from numpy import std\n",
        "from matplotlib import pyplot\n",
        "from sklearn.model_selection import KFold\n",
        "from keras.datasets import fashion_mnist\n",
        "from keras.utils import to_categorical\n",
        "from keras.models import Sequential\n",
        "from keras.layers import Conv2D\n",
        "from keras.layers import MaxPooling2D\n",
        "from keras.layers import Dense\n",
        "from keras.layers import Flatten\n",
        "from keras.layers import Flatten\n",
        "from keras.optimizers import SGD"
      ],
      "execution_count": 60,
      "outputs": []
    },
    {
      "cell_type": "code",
      "metadata": {
        "id": "RbfHdGHOlZ3T",
        "colab_type": "code",
        "colab": {}
      },
      "source": [
        "def load_dataset():\n",
        "  (trainX, trainY), (testX, testY) = fashion_mnist.load_data()\n",
        "  print(\"Some Example images: \")\n",
        "  for i in range(9):\n",
        "\t  pyplot.subplot(330 + 1 + i)\n",
        "\t  pyplot.imshow(trainX[i], cmap=pyplot.get_cmap('gray'))\n",
        "  pyplot.show()\n",
        "  trainX = trainX.reshape((trainX.shape[0], 28, 28, 1))\n",
        "  testX = testX.reshape((testX.shape[0], 28, 28, 1))\n",
        "  trainY = to_categorical(trainY)\n",
        "  testY = to_categorical(testY)\n",
        "\n",
        "  print(\"\\n\\nDataset loaded\")\n",
        "  print(\"Shape of TrainX: \" , trainX.shape)\n",
        "  print(\"Shape of TrainY: \" , trainY.shape)\n",
        "  print(\"Shape of TestX: \" , testX.shape)\n",
        "  print(\"Shape of TestY: \" , testY.shape)\n",
        "  print(\"Maximum in trainX \" , np.max(trainX) )\n",
        "\n",
        "  return trainX, trainY, testX, testY"
      ],
      "execution_count": 80,
      "outputs": []
    },
    {
      "cell_type": "code",
      "metadata": {
        "id": "qKDfagprm326",
        "colab_type": "code",
        "colab": {}
      },
      "source": [
        "def prepare_pixels(train, test):\n",
        "  train_in_float = train.astype('float32')\n",
        "  train_norm = train_in_float / 255.0\n",
        "  test_in_float = test.astype('float32')\n",
        "  test_norm = test_in_float / 255.0\n",
        "\n",
        "  print(\"\\n\\nNormalised in [0,1]\")\n",
        "  print(\"Maximum in training data \", np.max(train_norm) )\n",
        "  \n",
        "  return train_norm, test_norm"
      ],
      "execution_count": 62,
      "outputs": []
    },
    {
      "cell_type": "code",
      "metadata": {
        "id": "5R5GL4l9ob9j",
        "colab_type": "code",
        "colab": {}
      },
      "source": [
        "def make_model():\n",
        "  model = Sequential()\n",
        "  model.add(Conv2D(64, (3,3), padding='same', activation='relu', \\\n",
        "                      kernel_initializer='he_uniform', input_shape = (28, 28, 1)))\n",
        "  model.add(MaxPooling2D(2,2))\n",
        "  model.add(Flatten())\n",
        "  model.add(Dense(units=100, activation='relu', kernel_initializer='he_uniform'))\n",
        "  model.add(Dense(units=10, activation='softmax'))\n",
        "\n",
        "  opt = SGD(learning_rate=0.01, momentum=0.90)\n",
        "\n",
        "  model.compile(optimizer=opt, loss='categorical_crossentropy',metrics=['accuracy'])\n",
        "\n",
        "  return model"
      ],
      "execution_count": 63,
      "outputs": []
    },
    {
      "cell_type": "code",
      "metadata": {
        "id": "f0pQdKAhsT4l",
        "colab_type": "code",
        "colab": {}
      },
      "source": [
        "def evaluate_model(dataX, dataY, n_folds):\n",
        "  scores, histories = list(), list()\n",
        "  kfold = KFold(n_splits=n_folds, shuffle=True, random_state=1)\n",
        "\n",
        "  for train_ix, test_ix in kfold.split(dataX):\n",
        "    model = make_model()\n",
        "    trainX_curr_fold, trainY_curr_fold, testX_curr_fold, testY_curr_fold \\\n",
        "    = dataX[train_ix], dataY[train_ix], dataX[test_ix], dataY[test_ix]\n",
        "\n",
        "    history = model.fit(trainX_curr_fold, trainY_curr_fold, epochs=10, batch_size=32,\\\n",
        "              validation_data=(testX_curr_fold, testY_curr_fold), verbose=2)\n",
        "    losss, accc = model.evaluate(testX_curr_fold, testY_curr_fold, verbose=2)\n",
        "    print(\"Accuracy here: %.3f\" % (accc*100.0))\n",
        "\n",
        "    scores.append(accc)\n",
        "    histories.append(history)\n",
        "\n",
        "  return scores, histories, model"
      ],
      "execution_count": 64,
      "outputs": []
    },
    {
      "cell_type": "code",
      "metadata": {
        "id": "_ZKF9Fq7xxTA",
        "colab_type": "code",
        "colab": {}
      },
      "source": [
        "def summarise_diagnostics(histories):\n",
        "  for i in range (len(histories)):\n",
        "    pyplot.subplot(211)\n",
        "    pyplot.title(\"Cross Entropy Loss\")\n",
        "    pyplot.plot(histories[i].history['loss'], color = 'blue', label = 'train')\n",
        "    pyplot.plot(histories[i].history['val_accuracy'], color='orange', label='test')\n",
        "\n",
        "    pyplot.subplot(212)\n",
        "    pyplot.title(\"Classification Accuracy\")\n",
        "    pyplot.plot(histories[i].history['loss'], color='blue', label='train')\n",
        "    pyplot.plot(histories[i].history['val_loss'], color = 'orange', label = 'test')\n",
        "  pyplot.show()"
      ],
      "execution_count": 65,
      "outputs": []
    },
    {
      "cell_type": "code",
      "metadata": {
        "id": "PYVdSVxG4xIQ",
        "colab_type": "code",
        "colab": {}
      },
      "source": [
        "def summarise_performance(scores):\n",
        "  print(\"Mean of train accuracy: %.2f\\n Std dev of train accuracy: %.2f\" \\\n",
        "        % (100*mean(scores), 100*std(scores)))\n",
        "  pyplot.boxplot(scores)\n",
        "  pyplot.show()"
      ],
      "execution_count": 66,
      "outputs": []
    },
    {
      "cell_type": "code",
      "metadata": {
        "id": "FSI55W876VpV",
        "colab_type": "code",
        "colab": {}
      },
      "source": [
        "def driver():\n",
        "  trainX, trainY, testX, testY = load_dataset()\n",
        "  trainX, testX = prepare_pixels(train=trainX, test=testX)\n",
        "  model = make_model()\n",
        "  print(\"\\n\\nSummary of the prepared model:\")\n",
        "  model.summary()\n",
        "  scores, histories, model = evaluate_model(dataX=trainX, dataY=trainY, n_folds=5)\n",
        "  summarise_diagnostics(histories)\n",
        "  summarise_performance(scores)\n",
        "  test_loss, test_acc = model.evaluate(testX, testY, verbose = 2)\n",
        "  print(\"Test loss = %.3f\" % test_loss)\n",
        "  print(\"Test accuracy = %.3f\" % (test_acc*100))"
      ],
      "execution_count": 68,
      "outputs": []
    },
    {
      "cell_type": "code",
      "metadata": {
        "id": "PhX8MVSJtBXB",
        "colab_type": "code",
        "colab": {
          "base_uri": "https://localhost:8080/",
          "height": 1000
        },
        "outputId": "805fd1e4-18f4-43e3-b50c-f79ba20d34c9"
      },
      "source": [
        "driver()"
      ],
      "execution_count": 81,
      "outputs": [
        {
          "output_type": "stream",
          "text": [
            "Some Example images: \n"
          ],
          "name": "stdout"
        },
        {
          "output_type": "display_data",
          "data": {
            "image/png": "[encoded data removed]",
            "text/plain": [
              "<Figure size 432x288 with 9 Axes>"
            ]
          },
          "metadata": {
            "tags": [],
            "needs_background": "light"
          }
        },
        {
          "output_type": "stream",
          "text": [
            "\n",
            "\n",
            "Dataset loaded\n",
            "Shape of TrainX:  (60000, 28, 28, 1)\n",
            "Shape of TrainY:  (60000, 10)\n",
            "Shape of TestX:  (10000, 28, 28, 1)\n",
            "Shape of TestY:  (10000, 10)\n",
            "Maximum in trainX  255\n",
            "\n",
            "\n",
            "Normalised in [0,1]\n",
            "Maximum in training data  1.0\n",
            "\n",
            "\n",
            "Summary of the prepared model:\n",
            "Model: \"sequential_34\"\n",
            "_________________________________________________________________\n",
            "Layer (type)                 Output Shape              Param #   \n",
            "=================================================================\n",
            "conv2d_34 (Conv2D)           (None, 28, 28, 64)        640       \n",
            "_________________________________________________________________\n",
            "max_pooling2d_34 (MaxPooling (None, 14, 14, 64)        0         \n",
            "_________________________________________________________________\n",
            "flatten_34 (Flatten)         (None, 12544)             0         \n",
            "_________________________________________________________________\n",
            "dense_68 (Dense)             (None, 100)               1254500   \n",
            "_________________________________________________________________\n",
            "dense_69 (Dense)             (None, 10)                1010      \n",
            "=================================================================\n",
            "Total params: 1,256,150\n",
            "Trainable params: 1,256,150\n",
            "Non-trainable params: 0\n",
            "_________________________________________________________________\n",
            "Epoch 1/10\n",
            "1500/1500 - 4s - loss: 0.4545 - accuracy: 0.8368 - val_loss: 0.3203 - val_accuracy: 0.8833\n",
            "Epoch 2/10\n",
            "1500/1500 - 4s - loss: 0.2908 - accuracy: 0.8946 - val_loss: 0.2919 - val_accuracy: 0.8928\n",
            "Epoch 3/10\n",
            "1500/1500 - 4s - loss: 0.2444 - accuracy: 0.9105 - val_loss: 0.2887 - val_accuracy: 0.8938\n",
            "Epoch 4/10\n",
            "1500/1500 - 4s - loss: 0.2126 - accuracy: 0.9228 - val_loss: 0.2538 - val_accuracy: 0.9058\n",
            "Epoch 5/10\n",
            "1500/1500 - 4s - loss: 0.1898 - accuracy: 0.9306 - val_loss: 0.2655 - val_accuracy: 0.9053\n",
            "Epoch 6/10\n",
            "1500/1500 - 4s - loss: 0.1716 - accuracy: 0.9374 - val_loss: 0.2694 - val_accuracy: 0.9050\n",
            "Epoch 7/10\n",
            "1500/1500 - 4s - loss: 0.1539 - accuracy: 0.9439 - val_loss: 0.2525 - val_accuracy: 0.9103\n",
            "Epoch 8/10\n",
            "1500/1500 - 4s - loss: 0.1371 - accuracy: 0.9497 - val_loss: 0.2730 - val_accuracy: 0.9079\n",
            "Epoch 9/10\n",
            "1500/1500 - 4s - loss: 0.1236 - accuracy: 0.9553 - val_loss: 0.2848 - val_accuracy: 0.9099\n",
            "Epoch 10/10\n",
            "1500/1500 - 4s - loss: 0.1102 - accuracy: 0.9600 - val_loss: 0.2731 - val_accuracy: 0.9127\n",
            "375/375 - 1s - loss: 0.2731 - accuracy: 0.9127\n",
            "Accuracy here: 91.267\n",
            "Epoch 1/10\n",
            "1500/1500 - 4s - loss: 0.4503 - accuracy: 0.8364 - val_loss: 0.3172 - val_accuracy: 0.8854\n",
            "Epoch 2/10\n",
            "1500/1500 - 4s - loss: 0.2965 - accuracy: 0.8915 - val_loss: 0.3465 - val_accuracy: 0.8762\n",
            "Epoch 3/10\n",
            "1500/1500 - 4s - loss: 0.2531 - accuracy: 0.9070 - val_loss: 0.2907 - val_accuracy: 0.8963\n",
            "Epoch 4/10\n",
            "1500/1500 - 4s - loss: 0.2240 - accuracy: 0.9171 - val_loss: 0.2705 - val_accuracy: 0.9048\n",
            "Epoch 5/10\n",
            "1500/1500 - 4s - loss: 0.2003 - accuracy: 0.9252 - val_loss: 0.2591 - val_accuracy: 0.9070\n",
            "Epoch 6/10\n",
            "1500/1500 - 4s - loss: 0.1782 - accuracy: 0.9340 - val_loss: 0.2632 - val_accuracy: 0.9045\n",
            "Epoch 7/10\n",
            "1500/1500 - 4s - loss: 0.1624 - accuracy: 0.9404 - val_loss: 0.2444 - val_accuracy: 0.9135\n",
            "Epoch 8/10\n",
            "1500/1500 - 4s - loss: 0.1469 - accuracy: 0.9454 - val_loss: 0.2659 - val_accuracy: 0.9061\n",
            "Epoch 9/10\n",
            "1500/1500 - 4s - loss: 0.1339 - accuracy: 0.9507 - val_loss: 0.2680 - val_accuracy: 0.9133\n",
            "Epoch 10/10\n",
            "1500/1500 - 4s - loss: 0.1171 - accuracy: 0.9573 - val_loss: 0.2812 - val_accuracy: 0.9143\n",
            "375/375 - 1s - loss: 0.2812 - accuracy: 0.9143\n",
            "Accuracy here: 91.425\n",
            "Epoch 1/10\n",
            "1500/1500 - 4s - loss: 0.4935 - accuracy: 0.8209 - val_loss: 0.3327 - val_accuracy: 0.8835\n",
            "Epoch 2/10\n",
            "1500/1500 - 4s - loss: 0.3037 - accuracy: 0.8894 - val_loss: 0.3253 - val_accuracy: 0.8798\n",
            "Epoch 3/10\n",
            "1500/1500 - 4s - loss: 0.2563 - accuracy: 0.9055 - val_loss: 0.2713 - val_accuracy: 0.9056\n",
            "Epoch 4/10\n",
            "1500/1500 - 4s - loss: 0.2276 - accuracy: 0.9164 - val_loss: 0.2924 - val_accuracy: 0.8978\n",
            "Epoch 5/10\n",
            "1500/1500 - 4s - loss: 0.2068 - accuracy: 0.9229 - val_loss: 0.2955 - val_accuracy: 0.8966\n",
            "Epoch 6/10\n",
            "1500/1500 - 4s - loss: 0.1867 - accuracy: 0.9308 - val_loss: 0.2740 - val_accuracy: 0.9032\n",
            "Epoch 7/10\n",
            "1500/1500 - 4s - loss: 0.1698 - accuracy: 0.9371 - val_loss: 0.2618 - val_accuracy: 0.9105\n",
            "Epoch 8/10\n",
            "1500/1500 - 4s - loss: 0.1548 - accuracy: 0.9433 - val_loss: 0.2798 - val_accuracy: 0.9097\n",
            "Epoch 9/10\n",
            "1500/1500 - 4s - loss: 0.1419 - accuracy: 0.9486 - val_loss: 0.2734 - val_accuracy: 0.9099\n",
            "Epoch 10/10\n",
            "1500/1500 - 4s - loss: 0.1310 - accuracy: 0.9528 - val_loss: 0.2684 - val_accuracy: 0.9153\n",
            "375/375 - 1s - loss: 0.2684 - accuracy: 0.9153\n",
            "Accuracy here: 91.525\n",
            "Epoch 1/10\n",
            "1500/1500 - 4s - loss: 0.4389 - accuracy: 0.8419 - val_loss: 0.3337 - val_accuracy: 0.8751\n",
            "Epoch 2/10\n",
            "1500/1500 - 4s - loss: 0.2908 - accuracy: 0.8942 - val_loss: 0.2769 - val_accuracy: 0.8994\n",
            "Epoch 3/10\n",
            "1500/1500 - 4s - loss: 0.2455 - accuracy: 0.9109 - val_loss: 0.2980 - val_accuracy: 0.8907\n",
            "Epoch 4/10\n",
            "1500/1500 - 4s - loss: 0.2175 - accuracy: 0.9203 - val_loss: 0.2782 - val_accuracy: 0.9007\n",
            "Epoch 5/10\n",
            "1500/1500 - 4s - loss: 0.1921 - accuracy: 0.9298 - val_loss: 0.2683 - val_accuracy: 0.9047\n",
            "Epoch 6/10\n",
            "1500/1500 - 4s - loss: 0.1701 - accuracy: 0.9371 - val_loss: 0.2491 - val_accuracy: 0.9131\n",
            "Epoch 7/10\n",
            "1500/1500 - 4s - loss: 0.1523 - accuracy: 0.9429 - val_loss: 0.2676 - val_accuracy: 0.9081\n",
            "Epoch 8/10\n",
            "1500/1500 - 4s - loss: 0.1359 - accuracy: 0.9496 - val_loss: 0.2554 - val_accuracy: 0.9122\n",
            "Epoch 9/10\n",
            "1500/1500 - 4s - loss: 0.1224 - accuracy: 0.9556 - val_loss: 0.2648 - val_accuracy: 0.9143\n",
            "Epoch 10/10\n",
            "1500/1500 - 4s - loss: 0.1115 - accuracy: 0.9588 - val_loss: 0.2684 - val_accuracy: 0.9139\n",
            "375/375 - 1s - loss: 0.2684 - accuracy: 0.9139\n",
            "Accuracy here: 91.392\n",
            "Epoch 1/10\n",
            "1500/1500 - 5s - loss: 0.4775 - accuracy: 0.8298 - val_loss: 0.3356 - val_accuracy: 0.8806\n",
            "Epoch 2/10\n",
            "1500/1500 - 4s - loss: 0.3064 - accuracy: 0.8896 - val_loss: 0.3112 - val_accuracy: 0.8881\n",
            "Epoch 3/10\n",
            "1500/1500 - 4s - loss: 0.2605 - accuracy: 0.9042 - val_loss: 0.2915 - val_accuracy: 0.8951\n",
            "Epoch 4/10\n",
            "1500/1500 - 4s - loss: 0.2320 - accuracy: 0.9149 - val_loss: 0.2806 - val_accuracy: 0.9013\n",
            "Epoch 5/10\n",
            "1500/1500 - 4s - loss: 0.2071 - accuracy: 0.9237 - val_loss: 0.2930 - val_accuracy: 0.8975\n",
            "Epoch 6/10\n",
            "1500/1500 - 4s - loss: 0.1894 - accuracy: 0.9309 - val_loss: 0.2773 - val_accuracy: 0.9034\n",
            "Epoch 7/10\n",
            "1500/1500 - 4s - loss: 0.1701 - accuracy: 0.9379 - val_loss: 0.2615 - val_accuracy: 0.9115\n",
            "Epoch 8/10\n",
            "1500/1500 - 4s - loss: 0.1549 - accuracy: 0.9431 - val_loss: 0.2987 - val_accuracy: 0.9014\n",
            "Epoch 9/10\n",
            "1500/1500 - 4s - loss: 0.1397 - accuracy: 0.9493 - val_loss: 0.2803 - val_accuracy: 0.9116\n",
            "Epoch 10/10\n",
            "1500/1500 - 4s - loss: 0.1259 - accuracy: 0.9545 - val_loss: 0.2850 - val_accuracy: 0.9104\n",
            "375/375 - 1s - loss: 0.2850 - accuracy: 0.9104\n",
            "Accuracy here: 91.042\n"
          ],
          "name": "stdout"
        },
        {
          "output_type": "stream",
          "text": [
            "/usr/local/lib/python3.6/dist-packages/ipykernel_launcher.py:3: MatplotlibDeprecationWarning: Adding an axes using the same arguments as a previous axes currently reuses the earlier instance.  In a future version, a new instance will always be created and returned.  Meanwhile, this warning can be suppressed, and the future behavior ensured, by passing a unique label to each axes instance.\n",
            "  This is separate from the ipykernel package so we can avoid doing imports until\n",
            "/usr/local/lib/python3.6/dist-packages/ipykernel_launcher.py:8: MatplotlibDeprecationWarning: Adding an axes using the same arguments as a previous axes currently reuses the earlier instance.  In a future version, a new instance will always be created and returned.  Meanwhile, this warning can be suppressed, and the future behavior ensured, by passing a unique label to each axes instance.\n",
            "  \n"
          ],
          "name": "stderr"
        },
        {
          "output_type": "display_data",
          "data": {
            "image/png": "[encoded data removed]",
            "text/plain": [
              "<Figure size 432x288 with 2 Axes>"
            ]
          },
          "metadata": {
            "tags": [],
            "needs_background": "light"
          }
        },
        {
          "output_type": "stream",
          "text": [
            "Mean of train accuracy: 91.33\n",
            " Std dev of train accuracy: 0.17\n"
          ],
          "name": "stdout"
        },
        {
          "output_type": "display_data",
          "data": {
            "image/png": "[encoded data removed]",
            "text/plain": [
              "<Figure size 432x288 with 1 Axes>"
            ]
          },
          "metadata": {
            "tags": [],
            "needs_background": "light"
          }
        },
        {
          "output_type": "stream",
          "text": [
            "313/313 - 1s - loss: 0.3063 - accuracy: 0.9052\n",
            "Test loss = 0.306\n",
            "Test accuracy = 90.520\n"
          ],
          "name": "stdout"
        }
      ]
    },
    {
      "cell_type": "code",
      "metadata": {
        "id": "Z8WT4md3yzOM",
        "colab_type": "code",
        "colab": {
          "base_uri": "https://localhost:8080/",
          "height": 248
        },
        "outputId": "84e1b5a2-ebce-4d51-c3de-40ecaee2f171"
      },
      "source": [
        "%%html\n",
        "<h3><u> Reference</u></h3>\n",
        "<a href = \"https://machinelearningmastery.com/how-to-develop-a-cnn-from-scratch-for-fashion-mnist-clothing-classification/\">\n",
        "Jason Brownlee PhD, How to Develop a Deep CNN for Fashion-MNIST Clothing Classification\n",
        "</a>\n",
        "\n",
        "<h3> <u>Implemented for practice by </u> </h3>\n",
        "<h4> Md. Al Siam </h4>\n",
        "<p> Dept of CSE </p>\n",
        "<a href = \"https://www.ruet.ac.bd/\">\n",
        "RUET\n",
        "</a>"
      ],
      "execution_count": 40,
      "outputs": [
        {
          "output_type": "display_data",
          "data": {
            "text/html": [
              "<h3><u> Reference</u></h3>\n",
              "<a href = \"https://machinelearningmastery.com/how-to-develop-a-cnn-from-scratch-for-fashion-mnist-clothing-classification/\">\n",
              "Jason Brownlee PhD, How to Develop a Deep CNN for Fashion-MNIST Clothing Classification\n",
              "</a>\n",
              "\n",
              "<h3> <u>Implemented for practice by </u> </h3>\n",
              "<h4> Md. Al Siam </h4>\n",
              "<p> Dept of CSE </p>\n",
              "<a href = \"https://www.ruet.ac.bd/\">\n",
              "RUET\n",
              "</a>"
            ],
            "text/plain": [
              "<IPython.core.display.HTML object>"
            ]
          },
          "metadata": {
            "tags": []
          }
        }
      ]
    }
  ]
}